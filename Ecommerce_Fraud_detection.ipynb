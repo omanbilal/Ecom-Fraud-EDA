{
 "cells": [
  {
   "cell_type": "markdown",
   "metadata": {},
   "source": [
    "# Ecommerce Fraud - Exploratory Data Analysis\n",
    "\n",
    "### There are two datsets containing information about the customer, orders placed, transactions details, payment methods used and whether the customer is performing fraudulent transaction or not.\n",
    "\n",
    "#### Tasks to perform on the data:\n",
    "    1) Perform exploratory analysis on the datasets.\n",
    "    2) Summarise the key trends in the data, providing visualisations as necessary.\n",
    "    3) Point out the factors that are significant and insignificant in contributing to fraud."
   ]
  },
  {
   "cell_type": "code",
   "execution_count": 1,
   "metadata": {},
   "outputs": [],
   "source": [
    "import pandas as pd\n",
    "import numpy as np\n",
    "import matplotlib.pyplot as plt\n",
    "%matplotlib inline\n",
    "import seaborn as sns"
   ]
  },
  {
   "cell_type": "markdown",
   "metadata": {},
   "source": [
    "### Import dataset having customer details"
   ]
  },
  {
   "cell_type": "code",
   "execution_count": 2,
   "metadata": {},
   "outputs": [],
   "source": [
    "df = pd.read_csv(r\"C:\\Users\\oman\\Desktop\\PHPPRO\\Ecom_Fraud\\customer_details.csv\")"
   ]
  },
  {
   "cell_type": "code",
   "execution_count": 3,
   "metadata": {},
   "outputs": [
    {
     "data": {
      "text/html": [
       "<div>\n",
       "<style scoped>\n",
       "    .dataframe tbody tr th:only-of-type {\n",
       "        vertical-align: middle;\n",
       "    }\n",
       "\n",
       "    .dataframe tbody tr th {\n",
       "        vertical-align: top;\n",
       "    }\n",
       "\n",
       "    .dataframe thead th {\n",
       "        text-align: right;\n",
       "    }\n",
       "</style>\n",
       "<table border=\"1\" class=\"dataframe\">\n",
       "  <thead>\n",
       "    <tr style=\"text-align: right;\">\n",
       "      <th></th>\n",
       "      <th>Unnamed: 0</th>\n",
       "      <th>customerEmail</th>\n",
       "      <th>customerPhone</th>\n",
       "      <th>customerDevice</th>\n",
       "      <th>customerIPAddress</th>\n",
       "      <th>customerBillingAddress</th>\n",
       "      <th>No_Transactions</th>\n",
       "      <th>No_Orders</th>\n",
       "      <th>No_Payments</th>\n",
       "      <th>Fraud</th>\n",
       "    </tr>\n",
       "  </thead>\n",
       "  <tbody>\n",
       "    <tr>\n",
       "      <th>0</th>\n",
       "      <td>0</td>\n",
       "      <td>josephhoward@yahoo.com</td>\n",
       "      <td>400-108-5415</td>\n",
       "      <td>yyeiaxpltf82440jnb3v</td>\n",
       "      <td>8.129.104.40</td>\n",
       "      <td>5493 Jones Islands\\nBrownside, CA 51896</td>\n",
       "      <td>2</td>\n",
       "      <td>2</td>\n",
       "      <td>1</td>\n",
       "      <td>False</td>\n",
       "    </tr>\n",
       "    <tr>\n",
       "      <th>1</th>\n",
       "      <td>1</td>\n",
       "      <td>evansjeffery@yahoo.com</td>\n",
       "      <td>1-788-091-7546</td>\n",
       "      <td>r0jpm7xaeqqa3kr6mzum</td>\n",
       "      <td>219.173.211.202</td>\n",
       "      <td>356 Elizabeth Inlet Suite 120\\nPort Joshuabury...</td>\n",
       "      <td>3</td>\n",
       "      <td>3</td>\n",
       "      <td>7</td>\n",
       "      <td>True</td>\n",
       "    </tr>\n",
       "    <tr>\n",
       "      <th>2</th>\n",
       "      <td>2</td>\n",
       "      <td>andersonwilliam@yahoo.com</td>\n",
       "      <td>024.420.0375</td>\n",
       "      <td>4m7h5ipl1shyavt6vv2r</td>\n",
       "      <td>67b7:3db8:67e0:3bea:b9d0:90c1:2b60:b9f0</td>\n",
       "      <td>8478 Sean Ridges Apt. 441\\nDavisberg, PR 72250</td>\n",
       "      <td>5</td>\n",
       "      <td>3</td>\n",
       "      <td>2</td>\n",
       "      <td>False</td>\n",
       "    </tr>\n",
       "    <tr>\n",
       "      <th>3</th>\n",
       "      <td>3</td>\n",
       "      <td>rubenjuarez@yahoo.com</td>\n",
       "      <td>670.664.8168x94985</td>\n",
       "      <td>slovx60t0i558may4ks0</td>\n",
       "      <td>95de:8565:5a66:792c:26e0:6cfb:7d87:11af</td>\n",
       "      <td>7769 Elizabeth Bridge Apt. 343\\nNortonstad, FM...</td>\n",
       "      <td>3</td>\n",
       "      <td>3</td>\n",
       "      <td>1</td>\n",
       "      <td>False</td>\n",
       "    </tr>\n",
       "    <tr>\n",
       "      <th>4</th>\n",
       "      <td>4</td>\n",
       "      <td>uchen@malone.com</td>\n",
       "      <td>1-981-877-0870</td>\n",
       "      <td>j0pd24k5h8dl2fqu0cz4</td>\n",
       "      <td>196.89.235.192</td>\n",
       "      <td>148 Russell Lodge Apt. 445\\nPort Jenniferside,...</td>\n",
       "      <td>7</td>\n",
       "      <td>7</td>\n",
       "      <td>6</td>\n",
       "      <td>True</td>\n",
       "    </tr>\n",
       "  </tbody>\n",
       "</table>\n",
       "</div>"
      ],
      "text/plain": [
       "   Unnamed: 0              customerEmail       customerPhone  \\\n",
       "0           0     josephhoward@yahoo.com        400-108-5415   \n",
       "1           1     evansjeffery@yahoo.com      1-788-091-7546   \n",
       "2           2  andersonwilliam@yahoo.com        024.420.0375   \n",
       "3           3      rubenjuarez@yahoo.com  670.664.8168x94985   \n",
       "4           4           uchen@malone.com      1-981-877-0870   \n",
       "\n",
       "         customerDevice                        customerIPAddress  \\\n",
       "0  yyeiaxpltf82440jnb3v                             8.129.104.40   \n",
       "1  r0jpm7xaeqqa3kr6mzum                          219.173.211.202   \n",
       "2  4m7h5ipl1shyavt6vv2r  67b7:3db8:67e0:3bea:b9d0:90c1:2b60:b9f0   \n",
       "3  slovx60t0i558may4ks0  95de:8565:5a66:792c:26e0:6cfb:7d87:11af   \n",
       "4  j0pd24k5h8dl2fqu0cz4                           196.89.235.192   \n",
       "\n",
       "                              customerBillingAddress  No_Transactions  \\\n",
       "0            5493 Jones Islands\\nBrownside, CA 51896                2   \n",
       "1  356 Elizabeth Inlet Suite 120\\nPort Joshuabury...                3   \n",
       "2     8478 Sean Ridges Apt. 441\\nDavisberg, PR 72250                5   \n",
       "3  7769 Elizabeth Bridge Apt. 343\\nNortonstad, FM...                3   \n",
       "4  148 Russell Lodge Apt. 445\\nPort Jenniferside,...                7   \n",
       "\n",
       "   No_Orders  No_Payments  Fraud  \n",
       "0          2            1  False  \n",
       "1          3            7   True  \n",
       "2          3            2  False  \n",
       "3          3            1  False  \n",
       "4          7            6   True  "
      ]
     },
     "execution_count": 3,
     "metadata": {},
     "output_type": "execute_result"
    }
   ],
   "source": [
    "df.head()"
   ]
  },
  {
   "cell_type": "markdown",
   "metadata": {},
   "source": [
    "### Performing basic analysis"
   ]
  },
  {
   "cell_type": "code",
   "execution_count": 4,
   "metadata": {},
   "outputs": [
    {
     "name": "stdout",
     "output_type": "stream",
     "text": [
      "<class 'pandas.core.frame.DataFrame'>\n",
      "RangeIndex: 168 entries, 0 to 167\n",
      "Data columns (total 10 columns):\n",
      " #   Column                  Non-Null Count  Dtype \n",
      "---  ------                  --------------  ----- \n",
      " 0   Unnamed: 0              168 non-null    int64 \n",
      " 1   customerEmail           168 non-null    object\n",
      " 2   customerPhone           168 non-null    object\n",
      " 3   customerDevice          168 non-null    object\n",
      " 4   customerIPAddress       168 non-null    object\n",
      " 5   customerBillingAddress  168 non-null    object\n",
      " 6   No_Transactions         168 non-null    int64 \n",
      " 7   No_Orders               168 non-null    int64 \n",
      " 8   No_Payments             168 non-null    int64 \n",
      " 9   Fraud                   168 non-null    bool  \n",
      "dtypes: bool(1), int64(4), object(5)\n",
      "memory usage: 12.1+ KB\n"
     ]
    }
   ],
   "source": [
    "df.info()"
   ]
  },
  {
   "cell_type": "code",
   "execution_count": 5,
   "metadata": {},
   "outputs": [
    {
     "data": {
      "text/plain": [
       "(168, 10)"
      ]
     },
     "execution_count": 5,
     "metadata": {},
     "output_type": "execute_result"
    }
   ],
   "source": [
    "df.shape"
   ]
  },
  {
   "cell_type": "code",
   "execution_count": 6,
   "metadata": {},
   "outputs": [
    {
     "data": {
      "text/html": [
       "<div>\n",
       "<style scoped>\n",
       "    .dataframe tbody tr th:only-of-type {\n",
       "        vertical-align: middle;\n",
       "    }\n",
       "\n",
       "    .dataframe tbody tr th {\n",
       "        vertical-align: top;\n",
       "    }\n",
       "\n",
       "    .dataframe thead th {\n",
       "        text-align: right;\n",
       "    }\n",
       "</style>\n",
       "<table border=\"1\" class=\"dataframe\">\n",
       "  <thead>\n",
       "    <tr style=\"text-align: right;\">\n",
       "      <th></th>\n",
       "      <th>Unnamed: 0</th>\n",
       "      <th>No_Transactions</th>\n",
       "      <th>No_Orders</th>\n",
       "      <th>No_Payments</th>\n",
       "    </tr>\n",
       "  </thead>\n",
       "  <tbody>\n",
       "    <tr>\n",
       "      <th>count</th>\n",
       "      <td>168.000000</td>\n",
       "      <td>168.000000</td>\n",
       "      <td>168.000000</td>\n",
       "      <td>168.000000</td>\n",
       "    </tr>\n",
       "    <tr>\n",
       "      <th>mean</th>\n",
       "      <td>83.500000</td>\n",
       "      <td>3.708333</td>\n",
       "      <td>2.845238</td>\n",
       "      <td>2.035714</td>\n",
       "    </tr>\n",
       "    <tr>\n",
       "      <th>std</th>\n",
       "      <td>48.641546</td>\n",
       "      <td>2.801527</td>\n",
       "      <td>1.981919</td>\n",
       "      <td>2.113240</td>\n",
       "    </tr>\n",
       "    <tr>\n",
       "      <th>min</th>\n",
       "      <td>0.000000</td>\n",
       "      <td>0.000000</td>\n",
       "      <td>0.000000</td>\n",
       "      <td>0.000000</td>\n",
       "    </tr>\n",
       "    <tr>\n",
       "      <th>25%</th>\n",
       "      <td>41.750000</td>\n",
       "      <td>1.000000</td>\n",
       "      <td>1.000000</td>\n",
       "      <td>1.000000</td>\n",
       "    </tr>\n",
       "    <tr>\n",
       "      <th>50%</th>\n",
       "      <td>83.500000</td>\n",
       "      <td>4.000000</td>\n",
       "      <td>3.000000</td>\n",
       "      <td>1.000000</td>\n",
       "    </tr>\n",
       "    <tr>\n",
       "      <th>75%</th>\n",
       "      <td>125.250000</td>\n",
       "      <td>5.000000</td>\n",
       "      <td>4.000000</td>\n",
       "      <td>2.000000</td>\n",
       "    </tr>\n",
       "    <tr>\n",
       "      <th>max</th>\n",
       "      <td>167.000000</td>\n",
       "      <td>15.000000</td>\n",
       "      <td>8.000000</td>\n",
       "      <td>15.000000</td>\n",
       "    </tr>\n",
       "  </tbody>\n",
       "</table>\n",
       "</div>"
      ],
      "text/plain": [
       "       Unnamed: 0  No_Transactions   No_Orders  No_Payments\n",
       "count  168.000000       168.000000  168.000000   168.000000\n",
       "mean    83.500000         3.708333    2.845238     2.035714\n",
       "std     48.641546         2.801527    1.981919     2.113240\n",
       "min      0.000000         0.000000    0.000000     0.000000\n",
       "25%     41.750000         1.000000    1.000000     1.000000\n",
       "50%     83.500000         4.000000    3.000000     1.000000\n",
       "75%    125.250000         5.000000    4.000000     2.000000\n",
       "max    167.000000        15.000000    8.000000    15.000000"
      ]
     },
     "execution_count": 6,
     "metadata": {},
     "output_type": "execute_result"
    }
   ],
   "source": [
    "df.describe()"
   ]
  },
  {
   "cell_type": "markdown",
   "metadata": {},
   "source": [
    "### Import dataset having customer transaction details"
   ]
  },
  {
   "cell_type": "code",
   "execution_count": 7,
   "metadata": {},
   "outputs": [],
   "source": [
    "df1 = pd.read_csv(r'C:\\Users\\oman\\Desktop\\PHPPRO\\Ecom_Fraud\\cust_transaction.csv')"
   ]
  },
  {
   "cell_type": "markdown",
   "metadata": {},
   "source": [
    "### Performing basic analysis"
   ]
  },
  {
   "cell_type": "code",
   "execution_count": 8,
   "metadata": {},
   "outputs": [
    {
     "data": {
      "text/html": [
       "<div>\n",
       "<style scoped>\n",
       "    .dataframe tbody tr th:only-of-type {\n",
       "        vertical-align: middle;\n",
       "    }\n",
       "\n",
       "    .dataframe tbody tr th {\n",
       "        vertical-align: top;\n",
       "    }\n",
       "\n",
       "    .dataframe thead th {\n",
       "        text-align: right;\n",
       "    }\n",
       "</style>\n",
       "<table border=\"1\" class=\"dataframe\">\n",
       "  <thead>\n",
       "    <tr style=\"text-align: right;\">\n",
       "      <th></th>\n",
       "      <th>Unnamed: 0</th>\n",
       "      <th>customerEmail</th>\n",
       "      <th>transactionId</th>\n",
       "      <th>orderId</th>\n",
       "      <th>paymentMethodId</th>\n",
       "      <th>paymentMethodRegistrationFailure</th>\n",
       "      <th>paymentMethodType</th>\n",
       "      <th>paymentMethodProvider</th>\n",
       "      <th>transactionAmount</th>\n",
       "      <th>transactionFailed</th>\n",
       "      <th>orderState</th>\n",
       "    </tr>\n",
       "  </thead>\n",
       "  <tbody>\n",
       "    <tr>\n",
       "      <th>0</th>\n",
       "      <td>0</td>\n",
       "      <td>josephhoward@yahoo.com</td>\n",
       "      <td>a9lcj51r</td>\n",
       "      <td>vjbdvd</td>\n",
       "      <td>wt07xm68b</td>\n",
       "      <td>1</td>\n",
       "      <td>card</td>\n",
       "      <td>JCB 16 digit</td>\n",
       "      <td>18</td>\n",
       "      <td>0</td>\n",
       "      <td>pending</td>\n",
       "    </tr>\n",
       "    <tr>\n",
       "      <th>1</th>\n",
       "      <td>1</td>\n",
       "      <td>josephhoward@yahoo.com</td>\n",
       "      <td>y4wcv03i</td>\n",
       "      <td>yp6x27</td>\n",
       "      <td>wt07xm68b</td>\n",
       "      <td>1</td>\n",
       "      <td>card</td>\n",
       "      <td>JCB 16 digit</td>\n",
       "      <td>26</td>\n",
       "      <td>0</td>\n",
       "      <td>fulfilled</td>\n",
       "    </tr>\n",
       "    <tr>\n",
       "      <th>2</th>\n",
       "      <td>2</td>\n",
       "      <td>evansjeffery@yahoo.com</td>\n",
       "      <td>5mi94sfw</td>\n",
       "      <td>nlghpa</td>\n",
       "      <td>41ug157xz</td>\n",
       "      <td>0</td>\n",
       "      <td>bitcoin</td>\n",
       "      <td>American Express</td>\n",
       "      <td>45</td>\n",
       "      <td>0</td>\n",
       "      <td>fulfilled</td>\n",
       "    </tr>\n",
       "    <tr>\n",
       "      <th>3</th>\n",
       "      <td>3</td>\n",
       "      <td>evansjeffery@yahoo.com</td>\n",
       "      <td>br8ba1nu</td>\n",
       "      <td>uw0eeb</td>\n",
       "      <td>41ug157xz</td>\n",
       "      <td>0</td>\n",
       "      <td>bitcoin</td>\n",
       "      <td>American Express</td>\n",
       "      <td>23</td>\n",
       "      <td>0</td>\n",
       "      <td>fulfilled</td>\n",
       "    </tr>\n",
       "    <tr>\n",
       "      <th>4</th>\n",
       "      <td>4</td>\n",
       "      <td>evansjeffery@yahoo.com</td>\n",
       "      <td>a33145ss</td>\n",
       "      <td>bn44oh</td>\n",
       "      <td>y3xp697jx</td>\n",
       "      <td>1</td>\n",
       "      <td>bitcoin</td>\n",
       "      <td>VISA 16 digit</td>\n",
       "      <td>43</td>\n",
       "      <td>1</td>\n",
       "      <td>fulfilled</td>\n",
       "    </tr>\n",
       "  </tbody>\n",
       "</table>\n",
       "</div>"
      ],
      "text/plain": [
       "   Unnamed: 0           customerEmail transactionId orderId paymentMethodId  \\\n",
       "0           0  josephhoward@yahoo.com      a9lcj51r  vjbdvd       wt07xm68b   \n",
       "1           1  josephhoward@yahoo.com      y4wcv03i  yp6x27       wt07xm68b   \n",
       "2           2  evansjeffery@yahoo.com      5mi94sfw  nlghpa       41ug157xz   \n",
       "3           3  evansjeffery@yahoo.com      br8ba1nu  uw0eeb       41ug157xz   \n",
       "4           4  evansjeffery@yahoo.com      a33145ss  bn44oh       y3xp697jx   \n",
       "\n",
       "   paymentMethodRegistrationFailure paymentMethodType paymentMethodProvider  \\\n",
       "0                                 1              card          JCB 16 digit   \n",
       "1                                 1              card          JCB 16 digit   \n",
       "2                                 0           bitcoin      American Express   \n",
       "3                                 0           bitcoin      American Express   \n",
       "4                                 1           bitcoin         VISA 16 digit   \n",
       "\n",
       "   transactionAmount  transactionFailed orderState  \n",
       "0                 18                  0    pending  \n",
       "1                 26                  0  fulfilled  \n",
       "2                 45                  0  fulfilled  \n",
       "3                 23                  0  fulfilled  \n",
       "4                 43                  1  fulfilled  "
      ]
     },
     "execution_count": 8,
     "metadata": {},
     "output_type": "execute_result"
    }
   ],
   "source": [
    "df1.head()"
   ]
  },
  {
   "cell_type": "code",
   "execution_count": 9,
   "metadata": {},
   "outputs": [
    {
     "data": {
      "text/plain": [
       "(623, 11)"
      ]
     },
     "execution_count": 9,
     "metadata": {},
     "output_type": "execute_result"
    }
   ],
   "source": [
    "df1.shape"
   ]
  },
  {
   "cell_type": "code",
   "execution_count": 10,
   "metadata": {},
   "outputs": [
    {
     "data": {
      "text/html": [
       "<div>\n",
       "<style scoped>\n",
       "    .dataframe tbody tr th:only-of-type {\n",
       "        vertical-align: middle;\n",
       "    }\n",
       "\n",
       "    .dataframe tbody tr th {\n",
       "        vertical-align: top;\n",
       "    }\n",
       "\n",
       "    .dataframe thead th {\n",
       "        text-align: right;\n",
       "    }\n",
       "</style>\n",
       "<table border=\"1\" class=\"dataframe\">\n",
       "  <thead>\n",
       "    <tr style=\"text-align: right;\">\n",
       "      <th></th>\n",
       "      <th>Unnamed: 0</th>\n",
       "      <th>paymentMethodRegistrationFailure</th>\n",
       "      <th>transactionAmount</th>\n",
       "      <th>transactionFailed</th>\n",
       "    </tr>\n",
       "  </thead>\n",
       "  <tbody>\n",
       "    <tr>\n",
       "      <th>count</th>\n",
       "      <td>623.000000</td>\n",
       "      <td>623.000000</td>\n",
       "      <td>623.000000</td>\n",
       "      <td>623.000000</td>\n",
       "    </tr>\n",
       "    <tr>\n",
       "      <th>mean</th>\n",
       "      <td>311.000000</td>\n",
       "      <td>0.131621</td>\n",
       "      <td>34.598716</td>\n",
       "      <td>0.269663</td>\n",
       "    </tr>\n",
       "    <tr>\n",
       "      <th>std</th>\n",
       "      <td>179.988889</td>\n",
       "      <td>0.338350</td>\n",
       "      <td>20.360247</td>\n",
       "      <td>0.444141</td>\n",
       "    </tr>\n",
       "    <tr>\n",
       "      <th>min</th>\n",
       "      <td>0.000000</td>\n",
       "      <td>0.000000</td>\n",
       "      <td>10.000000</td>\n",
       "      <td>0.000000</td>\n",
       "    </tr>\n",
       "    <tr>\n",
       "      <th>25%</th>\n",
       "      <td>155.500000</td>\n",
       "      <td>0.000000</td>\n",
       "      <td>21.000000</td>\n",
       "      <td>0.000000</td>\n",
       "    </tr>\n",
       "    <tr>\n",
       "      <th>50%</th>\n",
       "      <td>311.000000</td>\n",
       "      <td>0.000000</td>\n",
       "      <td>34.000000</td>\n",
       "      <td>0.000000</td>\n",
       "    </tr>\n",
       "    <tr>\n",
       "      <th>75%</th>\n",
       "      <td>466.500000</td>\n",
       "      <td>0.000000</td>\n",
       "      <td>45.000000</td>\n",
       "      <td>1.000000</td>\n",
       "    </tr>\n",
       "    <tr>\n",
       "      <th>max</th>\n",
       "      <td>622.000000</td>\n",
       "      <td>1.000000</td>\n",
       "      <td>353.000000</td>\n",
       "      <td>1.000000</td>\n",
       "    </tr>\n",
       "  </tbody>\n",
       "</table>\n",
       "</div>"
      ],
      "text/plain": [
       "       Unnamed: 0  paymentMethodRegistrationFailure  transactionAmount  \\\n",
       "count  623.000000                        623.000000         623.000000   \n",
       "mean   311.000000                          0.131621          34.598716   \n",
       "std    179.988889                          0.338350          20.360247   \n",
       "min      0.000000                          0.000000          10.000000   \n",
       "25%    155.500000                          0.000000          21.000000   \n",
       "50%    311.000000                          0.000000          34.000000   \n",
       "75%    466.500000                          0.000000          45.000000   \n",
       "max    622.000000                          1.000000         353.000000   \n",
       "\n",
       "       transactionFailed  \n",
       "count         623.000000  \n",
       "mean            0.269663  \n",
       "std             0.444141  \n",
       "min             0.000000  \n",
       "25%             0.000000  \n",
       "50%             0.000000  \n",
       "75%             1.000000  \n",
       "max             1.000000  "
      ]
     },
     "execution_count": 10,
     "metadata": {},
     "output_type": "execute_result"
    }
   ],
   "source": [
    "df1.describe()"
   ]
  },
  {
   "cell_type": "code",
   "execution_count": 11,
   "metadata": {},
   "outputs": [
    {
     "name": "stdout",
     "output_type": "stream",
     "text": [
      "<class 'pandas.core.frame.DataFrame'>\n",
      "RangeIndex: 623 entries, 0 to 622\n",
      "Data columns (total 11 columns):\n",
      " #   Column                            Non-Null Count  Dtype \n",
      "---  ------                            --------------  ----- \n",
      " 0   Unnamed: 0                        623 non-null    int64 \n",
      " 1   customerEmail                     623 non-null    object\n",
      " 2   transactionId                     623 non-null    object\n",
      " 3   orderId                           623 non-null    object\n",
      " 4   paymentMethodId                   623 non-null    object\n",
      " 5   paymentMethodRegistrationFailure  623 non-null    int64 \n",
      " 6   paymentMethodType                 623 non-null    object\n",
      " 7   paymentMethodProvider             623 non-null    object\n",
      " 8   transactionAmount                 623 non-null    int64 \n",
      " 9   transactionFailed                 623 non-null    int64 \n",
      " 10  orderState                        623 non-null    object\n",
      "dtypes: int64(4), object(7)\n",
      "memory usage: 53.7+ KB\n"
     ]
    }
   ],
   "source": [
    "df1.info()"
   ]
  },
  {
   "cell_type": "markdown",
   "metadata": {},
   "source": [
    "### Exploratory Data Analysis\n",
    "#### Below are the steps involved to understand, clean and prepare your data for building your predictive model:\n",
    "\n",
    "    1) Univariate Analysis\n",
    "    2) Bi-variate Analysis\n",
    "    3) Missing values treatment\n",
    "    4) Outlier treatment\n",
    "    5) Variable transformation"
   ]
  },
  {
   "cell_type": "markdown",
   "metadata": {},
   "source": [
    "### Univariate Analysis\n",
    "\n",
    "At this stage, we explore variables one by one. Method to perform uni-variate analysis will depend on whether the variable type is categorical or continuous.\n",
    "\n",
    "<b>Continuous Variables:- </b> In case of continuous variables, we need to understand the central tendency and spread of the variable. These are measured using various statistical metrics such as Histogram, distplot(Frequency), Box plots(Outliers) etc. \n",
    "\n",
    "<b>Categorical Variable:</b> we can plot the Frequency using countplot or use value_counts() etc."
   ]
  },
  {
   "cell_type": "markdown",
   "metadata": {},
   "source": [
    "#### Lets analyse columns in df1"
   ]
  },
  {
   "cell_type": "code",
   "execution_count": 12,
   "metadata": {},
   "outputs": [
    {
     "data": {
      "text/plain": [
       "card         479\n",
       "apple pay     49\n",
       "paypal        48\n",
       "bitcoin       47\n",
       "Name: paymentMethodType, dtype: int64"
      ]
     },
     "execution_count": 12,
     "metadata": {},
     "output_type": "execute_result"
    }
   ],
   "source": [
    "df1['paymentMethodType'].value_counts()"
   ]
  },
  {
   "cell_type": "code",
   "execution_count": 13,
   "metadata": {},
   "outputs": [
    {
     "data": {
      "text/plain": [
       "JCB 16 digit                   118\n",
       "VISA 16 digit                   96\n",
       "Maestro                         69\n",
       "Voyager                         61\n",
       "Diners Club / Carte Blanche     58\n",
       "VISA 13 digit                   58\n",
       "American Express                45\n",
       "JCB 15 digit                    45\n",
       "Discover                        41\n",
       "Mastercard                      32\n",
       "Name: paymentMethodProvider, dtype: int64"
      ]
     },
     "execution_count": 13,
     "metadata": {},
     "output_type": "execute_result"
    }
   ],
   "source": [
    "df1['paymentMethodProvider'].value_counts()"
   ]
  },
  {
   "cell_type": "code",
   "execution_count": 14,
   "metadata": {},
   "outputs": [
    {
     "data": {
      "text/plain": [
       "fulfilled    516\n",
       "failed        63\n",
       "pending       44\n",
       "Name: orderState, dtype: int64"
      ]
     },
     "execution_count": 14,
     "metadata": {},
     "output_type": "execute_result"
    }
   ],
   "source": [
    "df1['orderState'].value_counts()"
   ]
  },
  {
   "cell_type": "code",
   "execution_count": 15,
   "metadata": {},
   "outputs": [
    {
     "data": {
      "text/plain": [
       "<matplotlib.axes._subplots.AxesSubplot at 0x251d20d6f48>"
      ]
     },
     "execution_count": 15,
     "metadata": {},
     "output_type": "execute_result"
    },
    {
     "data": {
      "image/png": "[encoded data removed]",
      "text/plain": [
       "<Figure size 432x288 with 1 Axes>"
      ]
     },
     "metadata": {
      "needs_background": "light"
     },
     "output_type": "display_data"
    }
   ],
   "source": [
    "sns.distplot(df1['transactionAmount'], hist=False)"
   ]
  },
  {
   "cell_type": "markdown",
   "metadata": {},
   "source": [
    "### Bi-Variate Analysis\n",
    "Bi-variate Analysis finds out the relationship between two variables. Here, we look for association and disassociation between variables at a pre-defined significance level. We can perform bi-variate analysis for any combination of categorical and continuous variables. The combination can be: Categorical & Categorical (countplot), Categorical & Continuous and Continuous & Continuous (lineplot). Different methods are used to tackle these combinations during analysis process.\n",
    "\n",
    "<b>Lets compare our continous variables with our target categorical variable Fraud in df</b>"
   ]
  },
  {
   "cell_type": "code",
   "execution_count": 16,
   "metadata": {},
   "outputs": [
    {
     "data": {
      "text/plain": [
       "<matplotlib.axes._subplots.AxesSubplot at 0x251d288cf08>"
      ]
     },
     "execution_count": 16,
     "metadata": {},
     "output_type": "execute_result"
    },
    {
     "data": {
      "image/png": "[encoded data removed]",
      "text/plain": [
       "<Figure size 432x288 with 1 Axes>"
      ]
     },
     "metadata": {
      "needs_background": "light"
     },
     "output_type": "display_data"
    }
   ],
   "source": [
    "sns.countplot(df['No_Payments'],hue =df['Fraud'])"
   ]
  },
  {
   "cell_type": "markdown",
   "metadata": {},
   "source": [
    "If Number of Payments are greater than 4 then customer is surely a fraud"
   ]
  },
  {
   "cell_type": "code",
   "execution_count": 17,
   "metadata": {},
   "outputs": [
    {
     "data": {
      "text/html": [
       "<div>\n",
       "<style scoped>\n",
       "    .dataframe tbody tr th:only-of-type {\n",
       "        vertical-align: middle;\n",
       "    }\n",
       "\n",
       "    .dataframe tbody tr th {\n",
       "        vertical-align: top;\n",
       "    }\n",
       "\n",
       "    .dataframe thead th {\n",
       "        text-align: right;\n",
       "    }\n",
       "</style>\n",
       "<table border=\"1\" class=\"dataframe\">\n",
       "  <thead>\n",
       "    <tr style=\"text-align: right;\">\n",
       "      <th></th>\n",
       "      <th>Unnamed: 0</th>\n",
       "      <th>customerEmail</th>\n",
       "      <th>customerPhone</th>\n",
       "      <th>customerDevice</th>\n",
       "      <th>customerIPAddress</th>\n",
       "      <th>customerBillingAddress</th>\n",
       "      <th>No_Transactions</th>\n",
       "      <th>No_Orders</th>\n",
       "      <th>No_Payments</th>\n",
       "      <th>Fraud</th>\n",
       "    </tr>\n",
       "  </thead>\n",
       "  <tbody>\n",
       "    <tr>\n",
       "      <th>1</th>\n",
       "      <td>1</td>\n",
       "      <td>evansjeffery@yahoo.com</td>\n",
       "      <td>1-788-091-7546</td>\n",
       "      <td>r0jpm7xaeqqa3kr6mzum</td>\n",
       "      <td>219.173.211.202</td>\n",
       "      <td>356 Elizabeth Inlet Suite 120\\nPort Joshuabury...</td>\n",
       "      <td>3</td>\n",
       "      <td>3</td>\n",
       "      <td>7</td>\n",
       "      <td>True</td>\n",
       "    </tr>\n",
       "    <tr>\n",
       "      <th>4</th>\n",
       "      <td>4</td>\n",
       "      <td>uchen@malone.com</td>\n",
       "      <td>1-981-877-0870</td>\n",
       "      <td>j0pd24k5h8dl2fqu0cz4</td>\n",
       "      <td>196.89.235.192</td>\n",
       "      <td>148 Russell Lodge Apt. 445\\nPort Jenniferside,...</td>\n",
       "      <td>7</td>\n",
       "      <td>7</td>\n",
       "      <td>6</td>\n",
       "      <td>True</td>\n",
       "    </tr>\n",
       "    <tr>\n",
       "      <th>29</th>\n",
       "      <td>29</td>\n",
       "      <td>catherine64@gmail.com</td>\n",
       "      <td>563-396-2038x288</td>\n",
       "      <td>myjxxvd3jfn1eymfy50n</td>\n",
       "      <td>1289:d2a9:c65d:8fc7:7be4:129b:d7b:cf7b</td>\n",
       "      <td>372 Michael Club Suite 553\\nHerrerafort, MH 52953</td>\n",
       "      <td>5</td>\n",
       "      <td>4</td>\n",
       "      <td>6</td>\n",
       "      <td>True</td>\n",
       "    </tr>\n",
       "    <tr>\n",
       "      <th>60</th>\n",
       "      <td>60</td>\n",
       "      <td>joserowland@jones.com</td>\n",
       "      <td>698-954-1805</td>\n",
       "      <td>znzp16ko7mtwjfxgrle4</td>\n",
       "      <td>152.211.139.83</td>\n",
       "      <td>1292 Tricia Key Suite 062\\nMarthabury, KS 40445</td>\n",
       "      <td>4</td>\n",
       "      <td>4</td>\n",
       "      <td>6</td>\n",
       "      <td>True</td>\n",
       "    </tr>\n",
       "    <tr>\n",
       "      <th>68</th>\n",
       "      <td>68</td>\n",
       "      <td>cathy42@gibson.com</td>\n",
       "      <td>754.248.6239x43965</td>\n",
       "      <td>c3r2qzqwc9anp6utob7n</td>\n",
       "      <td>7493:ab04:47ff:3a14:67d6:a128:a5b6:1500</td>\n",
       "      <td>046 Carson Crescent\\nSouth Jacksonview, NV 228...</td>\n",
       "      <td>3</td>\n",
       "      <td>3</td>\n",
       "      <td>15</td>\n",
       "      <td>True</td>\n",
       "    </tr>\n",
       "    <tr>\n",
       "      <th>80</th>\n",
       "      <td>80</td>\n",
       "      <td>warrenedward@arnold.com</td>\n",
       "      <td>201.737.5119x64000</td>\n",
       "      <td>6py7ewqjkxjw8zjl9eri</td>\n",
       "      <td>45.203.99.249</td>\n",
       "      <td>49680 Brian Squares Apt. 122\\nPort Walterburgh...</td>\n",
       "      <td>4</td>\n",
       "      <td>4</td>\n",
       "      <td>14</td>\n",
       "      <td>True</td>\n",
       "    </tr>\n",
       "    <tr>\n",
       "      <th>93</th>\n",
       "      <td>93</td>\n",
       "      <td>craig83@rasmussen-alvarado.com</td>\n",
       "      <td>122-259-7479x336</td>\n",
       "      <td>s93o0wj3eqd9whcy9ng3</td>\n",
       "      <td>35.212.254.226</td>\n",
       "      <td>10068 Adam Rapids Suite 792\\nRileyburgh, GA 11372</td>\n",
       "      <td>2</td>\n",
       "      <td>2</td>\n",
       "      <td>13</td>\n",
       "      <td>True</td>\n",
       "    </tr>\n",
       "    <tr>\n",
       "      <th>98</th>\n",
       "      <td>98</td>\n",
       "      <td>david45@gmail.com</td>\n",
       "      <td>(508)223-3834</td>\n",
       "      <td>l6qv05oe0h0j78kx84ex</td>\n",
       "      <td>9d8d:535b:36fc:8773:bec0:8fa5:3206:4cb5</td>\n",
       "      <td>5360 Adams Falls Suite 829\\nHensleymouth, WV 8...</td>\n",
       "      <td>10</td>\n",
       "      <td>8</td>\n",
       "      <td>5</td>\n",
       "      <td>True</td>\n",
       "    </tr>\n",
       "    <tr>\n",
       "      <th>120</th>\n",
       "      <td>120</td>\n",
       "      <td>iray@rogers.com</td>\n",
       "      <td>738-700-9649x102</td>\n",
       "      <td>qkkvc35qa3mx8g1t1jr2</td>\n",
       "      <td>4338:887b:3e9b:f16d:7257:2a21:6559:e9a4</td>\n",
       "      <td>Unit 4843 Box 7401\\nDPO AP 92304-9120</td>\n",
       "      <td>5</td>\n",
       "      <td>5</td>\n",
       "      <td>5</td>\n",
       "      <td>True</td>\n",
       "    </tr>\n",
       "    <tr>\n",
       "      <th>121</th>\n",
       "      <td>121</td>\n",
       "      <td>ctaylor@yahoo.com</td>\n",
       "      <td>1-020-923-6697x8718</td>\n",
       "      <td>uu141ykhyig0cj3s98jr</td>\n",
       "      <td>dda2:66e0:4279:3c1b:ac29:4cbb:5ea3:c26b</td>\n",
       "      <td>87096 Warren Turnpike\\nHowellview, WA 74727-2420</td>\n",
       "      <td>8</td>\n",
       "      <td>6</td>\n",
       "      <td>6</td>\n",
       "      <td>True</td>\n",
       "    </tr>\n",
       "    <tr>\n",
       "      <th>144</th>\n",
       "      <td>144</td>\n",
       "      <td>gwilcox@hotmail.com</td>\n",
       "      <td>1-114-728-2835x715</td>\n",
       "      <td>3pfhcvbn8itarkhxl087</td>\n",
       "      <td>168.56.122.190</td>\n",
       "      <td>77436 Denise Key Suite 828\\nMayschester, AR 65...</td>\n",
       "      <td>7</td>\n",
       "      <td>6</td>\n",
       "      <td>5</td>\n",
       "      <td>True</td>\n",
       "    </tr>\n",
       "    <tr>\n",
       "      <th>166</th>\n",
       "      <td>166</td>\n",
       "      <td>ethompson@jackson-sanders.com</td>\n",
       "      <td>962.300.2250</td>\n",
       "      <td>navessqcnmc9csfjn5cj</td>\n",
       "      <td>203.246.172.244</td>\n",
       "      <td>16953 Jennifer Springs\\nKathybury, IL 02095-3215</td>\n",
       "      <td>8</td>\n",
       "      <td>6</td>\n",
       "      <td>6</td>\n",
       "      <td>True</td>\n",
       "    </tr>\n",
       "  </tbody>\n",
       "</table>\n",
       "</div>"
      ],
      "text/plain": [
       "     Unnamed: 0                   customerEmail        customerPhone  \\\n",
       "1             1          evansjeffery@yahoo.com       1-788-091-7546   \n",
       "4             4                uchen@malone.com       1-981-877-0870   \n",
       "29           29           catherine64@gmail.com     563-396-2038x288   \n",
       "60           60           joserowland@jones.com         698-954-1805   \n",
       "68           68              cathy42@gibson.com   754.248.6239x43965   \n",
       "80           80         warrenedward@arnold.com   201.737.5119x64000   \n",
       "93           93  craig83@rasmussen-alvarado.com     122-259-7479x336   \n",
       "98           98               david45@gmail.com        (508)223-3834   \n",
       "120         120                 iray@rogers.com     738-700-9649x102   \n",
       "121         121               ctaylor@yahoo.com  1-020-923-6697x8718   \n",
       "144         144             gwilcox@hotmail.com   1-114-728-2835x715   \n",
       "166         166   ethompson@jackson-sanders.com         962.300.2250   \n",
       "\n",
       "           customerDevice                        customerIPAddress  \\\n",
       "1    r0jpm7xaeqqa3kr6mzum                          219.173.211.202   \n",
       "4    j0pd24k5h8dl2fqu0cz4                           196.89.235.192   \n",
       "29   myjxxvd3jfn1eymfy50n   1289:d2a9:c65d:8fc7:7be4:129b:d7b:cf7b   \n",
       "60   znzp16ko7mtwjfxgrle4                           152.211.139.83   \n",
       "68   c3r2qzqwc9anp6utob7n  7493:ab04:47ff:3a14:67d6:a128:a5b6:1500   \n",
       "80   6py7ewqjkxjw8zjl9eri                            45.203.99.249   \n",
       "93   s93o0wj3eqd9whcy9ng3                           35.212.254.226   \n",
       "98   l6qv05oe0h0j78kx84ex  9d8d:535b:36fc:8773:bec0:8fa5:3206:4cb5   \n",
       "120  qkkvc35qa3mx8g1t1jr2  4338:887b:3e9b:f16d:7257:2a21:6559:e9a4   \n",
       "121  uu141ykhyig0cj3s98jr  dda2:66e0:4279:3c1b:ac29:4cbb:5ea3:c26b   \n",
       "144  3pfhcvbn8itarkhxl087                           168.56.122.190   \n",
       "166  navessqcnmc9csfjn5cj                          203.246.172.244   \n",
       "\n",
       "                                customerBillingAddress  No_Transactions  \\\n",
       "1    356 Elizabeth Inlet Suite 120\\nPort Joshuabury...                3   \n",
       "4    148 Russell Lodge Apt. 445\\nPort Jenniferside,...                7   \n",
       "29   372 Michael Club Suite 553\\nHerrerafort, MH 52953                5   \n",
       "60     1292 Tricia Key Suite 062\\nMarthabury, KS 40445                4   \n",
       "68   046 Carson Crescent\\nSouth Jacksonview, NV 228...                3   \n",
       "80   49680 Brian Squares Apt. 122\\nPort Walterburgh...                4   \n",
       "93   10068 Adam Rapids Suite 792\\nRileyburgh, GA 11372                2   \n",
       "98   5360 Adams Falls Suite 829\\nHensleymouth, WV 8...               10   \n",
       "120              Unit 4843 Box 7401\\nDPO AP 92304-9120                5   \n",
       "121   87096 Warren Turnpike\\nHowellview, WA 74727-2420                8   \n",
       "144  77436 Denise Key Suite 828\\nMayschester, AR 65...                7   \n",
       "166   16953 Jennifer Springs\\nKathybury, IL 02095-3215                8   \n",
       "\n",
       "     No_Orders  No_Payments  Fraud  \n",
       "1            3            7   True  \n",
       "4            7            6   True  \n",
       "29           4            6   True  \n",
       "60           4            6   True  \n",
       "68           3           15   True  \n",
       "80           4           14   True  \n",
       "93           2           13   True  \n",
       "98           8            5   True  \n",
       "120          5            5   True  \n",
       "121          6            6   True  \n",
       "144          6            5   True  \n",
       "166          6            6   True  "
      ]
     },
     "execution_count": 17,
     "metadata": {},
     "output_type": "execute_result"
    }
   ],
   "source": [
    "df.loc[df['No_Payments']>4] # All the transactions where No_Payments is greater than 4"
   ]
  },
  {
   "cell_type": "code",
   "execution_count": 18,
   "metadata": {},
   "outputs": [
    {
     "data": {
      "text/plain": [
       "<matplotlib.axes._subplots.AxesSubplot at 0x251d298f448>"
      ]
     },
     "execution_count": 18,
     "metadata": {},
     "output_type": "execute_result"
    },
    {
     "data": {
      "image/png": "[encoded data removed]",
      "text/plain": [
       "<Figure size 432x288 with 1 Axes>"
      ]
     },
     "metadata": {
      "needs_background": "light"
     },
     "output_type": "display_data"
    }
   ],
   "source": [
    "sns.countplot(df['No_Orders'],hue =df['Fraud'])"
   ]
  },
  {
   "cell_type": "markdown",
   "metadata": {},
   "source": [
    "If number of orders are greater than 5 then the customer is surely a fraud"
   ]
  },
  {
   "cell_type": "code",
   "execution_count": 19,
   "metadata": {},
   "outputs": [
    {
     "data": {
      "text/plain": [
       "<matplotlib.axes._subplots.AxesSubplot at 0x251d2a30708>"
      ]
     },
     "execution_count": 19,
     "metadata": {},
     "output_type": "execute_result"
    },
    {
     "data": {
      "image/png": "[encoded data removed]",
      "text/plain": [
       "<Figure size 432x288 with 1 Axes>"
      ]
     },
     "metadata": {
      "needs_background": "light"
     },
     "output_type": "display_data"
    }
   ],
   "source": [
    "sns.countplot(df['No_Transactions'], hue=df['Fraud'])"
   ]
  },
  {
   "cell_type": "markdown",
   "metadata": {},
   "source": [
    "Customer with number of transactions above 8 seems to be doing fraud"
   ]
  },
  {
   "cell_type": "code",
   "execution_count": 20,
   "metadata": {},
   "outputs": [
    {
     "data": {
      "text/plain": [
       "<matplotlib.axes._subplots.AxesSubplot at 0x251d2b21488>"
      ]
     },
     "execution_count": 20,
     "metadata": {},
     "output_type": "execute_result"
    },
    {
     "data": {
      "image/png": "[encoded data removed]",
      "text/plain": [
       "<Figure size 432x288 with 2 Axes>"
      ]
     },
     "metadata": {
      "needs_background": "light"
     },
     "output_type": "display_data"
    }
   ],
   "source": [
    "corr = df.corr()\n",
    "sns.heatmap(corr, annot=True, cmap='coolwarm', fmt='.1g',vmin=-1, vmax=1, center=0)"
   ]
  },
  {
   "cell_type": "markdown",
   "metadata": {},
   "source": [
    "<b>Lets compare our continous variables in df1</b>"
   ]
  },
  {
   "cell_type": "code",
   "execution_count": 21,
   "metadata": {},
   "outputs": [
    {
     "data": {
      "text/html": [
       "<div>\n",
       "<style scoped>\n",
       "    .dataframe tbody tr th:only-of-type {\n",
       "        vertical-align: middle;\n",
       "    }\n",
       "\n",
       "    .dataframe tbody tr th {\n",
       "        vertical-align: top;\n",
       "    }\n",
       "\n",
       "    .dataframe thead th {\n",
       "        text-align: right;\n",
       "    }\n",
       "</style>\n",
       "<table border=\"1\" class=\"dataframe\">\n",
       "  <thead>\n",
       "    <tr style=\"text-align: right;\">\n",
       "      <th></th>\n",
       "      <th>Unnamed: 0</th>\n",
       "      <th>customerEmail</th>\n",
       "      <th>transactionId</th>\n",
       "      <th>orderId</th>\n",
       "      <th>paymentMethodId</th>\n",
       "      <th>paymentMethodRegistrationFailure</th>\n",
       "      <th>paymentMethodType</th>\n",
       "      <th>paymentMethodProvider</th>\n",
       "      <th>transactionAmount</th>\n",
       "      <th>transactionFailed</th>\n",
       "      <th>orderState</th>\n",
       "    </tr>\n",
       "  </thead>\n",
       "  <tbody>\n",
       "    <tr>\n",
       "      <th>0</th>\n",
       "      <td>0</td>\n",
       "      <td>josephhoward@yahoo.com</td>\n",
       "      <td>a9lcj51r</td>\n",
       "      <td>vjbdvd</td>\n",
       "      <td>wt07xm68b</td>\n",
       "      <td>1</td>\n",
       "      <td>card</td>\n",
       "      <td>JCB 16 digit</td>\n",
       "      <td>18</td>\n",
       "      <td>0</td>\n",
       "      <td>pending</td>\n",
       "    </tr>\n",
       "    <tr>\n",
       "      <th>1</th>\n",
       "      <td>1</td>\n",
       "      <td>josephhoward@yahoo.com</td>\n",
       "      <td>y4wcv03i</td>\n",
       "      <td>yp6x27</td>\n",
       "      <td>wt07xm68b</td>\n",
       "      <td>1</td>\n",
       "      <td>card</td>\n",
       "      <td>JCB 16 digit</td>\n",
       "      <td>26</td>\n",
       "      <td>0</td>\n",
       "      <td>fulfilled</td>\n",
       "    </tr>\n",
       "    <tr>\n",
       "      <th>2</th>\n",
       "      <td>2</td>\n",
       "      <td>evansjeffery@yahoo.com</td>\n",
       "      <td>5mi94sfw</td>\n",
       "      <td>nlghpa</td>\n",
       "      <td>41ug157xz</td>\n",
       "      <td>0</td>\n",
       "      <td>bitcoin</td>\n",
       "      <td>American Express</td>\n",
       "      <td>45</td>\n",
       "      <td>0</td>\n",
       "      <td>fulfilled</td>\n",
       "    </tr>\n",
       "  </tbody>\n",
       "</table>\n",
       "</div>"
      ],
      "text/plain": [
       "   Unnamed: 0           customerEmail transactionId orderId paymentMethodId  \\\n",
       "0           0  josephhoward@yahoo.com      a9lcj51r  vjbdvd       wt07xm68b   \n",
       "1           1  josephhoward@yahoo.com      y4wcv03i  yp6x27       wt07xm68b   \n",
       "2           2  evansjeffery@yahoo.com      5mi94sfw  nlghpa       41ug157xz   \n",
       "\n",
       "   paymentMethodRegistrationFailure paymentMethodType paymentMethodProvider  \\\n",
       "0                                 1              card          JCB 16 digit   \n",
       "1                                 1              card          JCB 16 digit   \n",
       "2                                 0           bitcoin      American Express   \n",
       "\n",
       "   transactionAmount  transactionFailed orderState  \n",
       "0                 18                  0    pending  \n",
       "1                 26                  0  fulfilled  \n",
       "2                 45                  0  fulfilled  "
      ]
     },
     "execution_count": 21,
     "metadata": {},
     "output_type": "execute_result"
    }
   ],
   "source": [
    "df1.head(3)"
   ]
  },
  {
   "cell_type": "code",
   "execution_count": 22,
   "metadata": {},
   "outputs": [
    {
     "data": {
      "text/plain": [
       "<matplotlib.axes._subplots.AxesSubplot at 0x251d2c3c4c8>"
      ]
     },
     "execution_count": 22,
     "metadata": {},
     "output_type": "execute_result"
    },
    {
     "data": {
      "image/png": "[encoded data removed]",
      "text/plain": [
       "<Figure size 432x288 with 1 Axes>"
      ]
     },
     "metadata": {
      "needs_background": "light"
     },
     "output_type": "display_data"
    }
   ],
   "source": [
    "sns.countplot(df1['paymentMethodType'], hue=df1['paymentMethodRegistrationFailure'])"
   ]
  },
  {
   "cell_type": "markdown",
   "metadata": {},
   "source": [
    "Registration failure most common with card payments"
   ]
  },
  {
   "cell_type": "code",
   "execution_count": 23,
   "metadata": {},
   "outputs": [
    {
     "data": {
      "text/plain": [
       "<matplotlib.axes._subplots.AxesSubplot at 0x251d2ca6108>"
      ]
     },
     "execution_count": 23,
     "metadata": {},
     "output_type": "execute_result"
    },
    {
     "data": {
      "image/png": "[encoded data removed]",
      "text/plain": [
       "<Figure size 1440x360 with 1 Axes>"
      ]
     },
     "metadata": {
      "needs_background": "light"
     },
     "output_type": "display_data"
    }
   ],
   "source": [
    "plt.figure(figsize=(20,5))\n",
    "sns.countplot(df1['paymentMethodProvider'], hue=df1['paymentMethodRegistrationFailure'])"
   ]
  },
  {
   "cell_type": "markdown",
   "metadata": {},
   "source": [
    "Visa 13 payment provider had most registration failures"
   ]
  },
  {
   "cell_type": "code",
   "execution_count": 24,
   "metadata": {},
   "outputs": [
    {
     "data": {
      "text/plain": [
       "<matplotlib.axes._subplots.AxesSubplot at 0x251d2d35048>"
      ]
     },
     "execution_count": 24,
     "metadata": {},
     "output_type": "execute_result"
    },
    {
     "data": {
      "image/png": "[encoded data removed]",
      "text/plain": [
       "<Figure size 432x288 with 1 Axes>"
      ]
     },
     "metadata": {
      "needs_background": "light"
     },
     "output_type": "display_data"
    }
   ],
   "source": [
    "sns.countplot(df1['paymentMethodType'], hue=df1['transactionFailed'])"
   ]
  },
  {
   "cell_type": "markdown",
   "metadata": {},
   "source": [
    "Most transactions failed with card payments"
   ]
  },
  {
   "cell_type": "code",
   "execution_count": 25,
   "metadata": {},
   "outputs": [
    {
     "data": {
      "text/plain": [
       "<matplotlib.axes._subplots.AxesSubplot at 0x251d2d81348>"
      ]
     },
     "execution_count": 25,
     "metadata": {},
     "output_type": "execute_result"
    },
    {
     "data": {
      "image/png": "[encoded data removed]",
      "text/plain": [
       "<Figure size 432x288 with 1 Axes>"
      ]
     },
     "metadata": {
      "needs_background": "light"
     },
     "output_type": "display_data"
    }
   ],
   "source": [
    "sns.countplot(df1['paymentMethodType'], hue=df1['orderState'])"
   ]
  },
  {
   "cell_type": "markdown",
   "metadata": {},
   "source": [
    "Large number of orders failed when using card"
   ]
  },
  {
   "cell_type": "code",
   "execution_count": 26,
   "metadata": {},
   "outputs": [
    {
     "data": {
      "text/plain": [
       "<matplotlib.axes._subplots.AxesSubplot at 0x251d2d79c88>"
      ]
     },
     "execution_count": 26,
     "metadata": {},
     "output_type": "execute_result"
    },
    {
     "data": {
      "image/png": "[encoded data removed]",
      "text/plain": [
       "<Figure size 1440x360 with 1 Axes>"
      ]
     },
     "metadata": {
      "needs_background": "light"
     },
     "output_type": "display_data"
    }
   ],
   "source": [
    "plt.figure(figsize=(20,5))\n",
    "sns.countplot(df1['paymentMethodProvider'], hue=df1['orderState'])"
   ]
  },
  {
   "cell_type": "markdown",
   "metadata": {},
   "source": [
    "JCB 16 and VISA 16 has most number of failed orders"
   ]
  },
  {
   "cell_type": "markdown",
   "metadata": {},
   "source": [
    "### Let's focus on combining the values of two datsets\n",
    "<ul>\n",
    "    <li>As we know the first table consists of customer details and second table consists of transactions details of these customers.</li>\n",
    "    <li>We have to merge these tables on the basis of common emails that are found in both the tables</li>\n",
    "    <li>We will use left join that returns all the records from the left table and matching records from the right</li>\n",
    "    <li>We will consider transaction done by a duplicate customer only once and delete the repeating transactions</li></ul>"
   ]
  },
  {
   "cell_type": "code",
   "execution_count": 27,
   "metadata": {},
   "outputs": [],
   "source": [
    "df.drop(['Unnamed: 0'],axis = 1, inplace = True)"
   ]
  },
  {
   "cell_type": "code",
   "execution_count": 28,
   "metadata": {},
   "outputs": [],
   "source": [
    "df1.drop(['Unnamed: 0'],axis = 1, inplace = True)"
   ]
  },
  {
   "cell_type": "code",
   "execution_count": 29,
   "metadata": {},
   "outputs": [],
   "source": [
    "df2 = pd.merge(df, df1, on='customerEmail', how='left')\n",
    "df3 = df2.drop_duplicates(\"customerEmail\", keep='last')"
   ]
  },
  {
   "cell_type": "code",
   "execution_count": 30,
   "metadata": {},
   "outputs": [
    {
     "data": {
      "text/plain": [
       "(161, 18)"
      ]
     },
     "execution_count": 30,
     "metadata": {},
     "output_type": "execute_result"
    }
   ],
   "source": [
    "df3.shape"
   ]
  },
  {
   "cell_type": "markdown",
   "metadata": {},
   "source": [
    "<b>Looking for Null Values</b>"
   ]
  },
  {
   "cell_type": "code",
   "execution_count": 31,
   "metadata": {},
   "outputs": [
    {
     "data": {
      "text/plain": [
       "<matplotlib.axes._subplots.AxesSubplot at 0x251d212a988>"
      ]
     },
     "execution_count": 31,
     "metadata": {},
     "output_type": "execute_result"
    },
    {
     "data": {
      "image/png": "[encoded data removed]",
      "text/plain": [
       "<Figure size 432x288 with 1 Axes>"
      ]
     },
     "metadata": {
      "needs_background": "light"
     },
     "output_type": "display_data"
    }
   ],
   "source": [
    "sns.heatmap(df3.isnull(), cbar=False)"
   ]
  },
  {
   "cell_type": "code",
   "execution_count": 32,
   "metadata": {},
   "outputs": [
    {
     "data": {
      "text/plain": [
       "customerEmail                       0\n",
       "customerPhone                       0\n",
       "customerDevice                      0\n",
       "customerIPAddress                   0\n",
       "customerBillingAddress              0\n",
       "No_Transactions                     0\n",
       "No_Orders                           0\n",
       "No_Payments                         0\n",
       "Fraud                               0\n",
       "transactionId                       0\n",
       "orderId                             0\n",
       "paymentMethodId                     0\n",
       "paymentMethodRegistrationFailure    0\n",
       "paymentMethodType                   0\n",
       "paymentMethodProvider               0\n",
       "transactionAmount                   0\n",
       "transactionFailed                   0\n",
       "orderState                          0\n",
       "dtype: int64"
      ]
     },
     "execution_count": 32,
     "metadata": {},
     "output_type": "execute_result"
    }
   ],
   "source": [
    "df4 = df3.dropna()\n",
    "df4.isnull().sum()"
   ]
  },
  {
   "cell_type": "code",
   "execution_count": 33,
   "metadata": {},
   "outputs": [
    {
     "data": {
      "text/plain": [
       "<matplotlib.axes._subplots.AxesSubplot at 0x251d1f492c8>"
      ]
     },
     "execution_count": 33,
     "metadata": {},
     "output_type": "execute_result"
    },
    {
     "data": {
      "image/png": "[encoded data removed]",
      "text/plain": [
       "<Figure size 432x288 with 1 Axes>"
      ]
     },
     "metadata": {
      "needs_background": "light"
     },
     "output_type": "display_data"
    }
   ],
   "source": [
    "sns.countplot(df4[\"Fraud\"])"
   ]
  },
  {
   "cell_type": "code",
   "execution_count": 34,
   "metadata": {},
   "outputs": [
    {
     "data": {
      "text/html": [
       "<div>\n",
       "<style scoped>\n",
       "    .dataframe tbody tr th:only-of-type {\n",
       "        vertical-align: middle;\n",
       "    }\n",
       "\n",
       "    .dataframe tbody tr th {\n",
       "        vertical-align: top;\n",
       "    }\n",
       "\n",
       "    .dataframe thead th {\n",
       "        text-align: right;\n",
       "    }\n",
       "</style>\n",
       "<table border=\"1\" class=\"dataframe\">\n",
       "  <thead>\n",
       "    <tr style=\"text-align: right;\">\n",
       "      <th></th>\n",
       "      <th>customerEmail</th>\n",
       "      <th>customerPhone</th>\n",
       "      <th>customerDevice</th>\n",
       "      <th>customerIPAddress</th>\n",
       "      <th>customerBillingAddress</th>\n",
       "      <th>No_Transactions</th>\n",
       "      <th>No_Orders</th>\n",
       "      <th>No_Payments</th>\n",
       "      <th>Fraud</th>\n",
       "      <th>transactionId</th>\n",
       "      <th>orderId</th>\n",
       "      <th>paymentMethodId</th>\n",
       "      <th>paymentMethodRegistrationFailure</th>\n",
       "      <th>paymentMethodType</th>\n",
       "      <th>paymentMethodProvider</th>\n",
       "      <th>transactionAmount</th>\n",
       "      <th>transactionFailed</th>\n",
       "      <th>orderState</th>\n",
       "    </tr>\n",
       "  </thead>\n",
       "  <tbody>\n",
       "    <tr>\n",
       "      <th>1</th>\n",
       "      <td>josephhoward@yahoo.com</td>\n",
       "      <td>400-108-5415</td>\n",
       "      <td>yyeiaxpltf82440jnb3v</td>\n",
       "      <td>8.129.104.40</td>\n",
       "      <td>5493 Jones Islands\\nBrownside, CA 51896</td>\n",
       "      <td>2</td>\n",
       "      <td>2</td>\n",
       "      <td>1</td>\n",
       "      <td>False</td>\n",
       "      <td>y4wcv03i</td>\n",
       "      <td>yp6x27</td>\n",
       "      <td>wt07xm68b</td>\n",
       "      <td>1.0</td>\n",
       "      <td>card</td>\n",
       "      <td>JCB 16 digit</td>\n",
       "      <td>26.0</td>\n",
       "      <td>0.0</td>\n",
       "      <td>fulfilled</td>\n",
       "    </tr>\n",
       "    <tr>\n",
       "      <th>4</th>\n",
       "      <td>evansjeffery@yahoo.com</td>\n",
       "      <td>1-788-091-7546</td>\n",
       "      <td>r0jpm7xaeqqa3kr6mzum</td>\n",
       "      <td>219.173.211.202</td>\n",
       "      <td>356 Elizabeth Inlet Suite 120\\nPort Joshuabury...</td>\n",
       "      <td>3</td>\n",
       "      <td>3</td>\n",
       "      <td>7</td>\n",
       "      <td>True</td>\n",
       "      <td>a33145ss</td>\n",
       "      <td>bn44oh</td>\n",
       "      <td>y3xp697jx</td>\n",
       "      <td>1.0</td>\n",
       "      <td>bitcoin</td>\n",
       "      <td>VISA 16 digit</td>\n",
       "      <td>43.0</td>\n",
       "      <td>1.0</td>\n",
       "      <td>fulfilled</td>\n",
       "    </tr>\n",
       "    <tr>\n",
       "      <th>9</th>\n",
       "      <td>andersonwilliam@yahoo.com</td>\n",
       "      <td>024.420.0375</td>\n",
       "      <td>4m7h5ipl1shyavt6vv2r</td>\n",
       "      <td>67b7:3db8:67e0:3bea:b9d0:90c1:2b60:b9f0</td>\n",
       "      <td>8478 Sean Ridges Apt. 441\\nDavisberg, PR 72250</td>\n",
       "      <td>5</td>\n",
       "      <td>3</td>\n",
       "      <td>2</td>\n",
       "      <td>False</td>\n",
       "      <td>uo3slwh7</td>\n",
       "      <td>itnk8y</td>\n",
       "      <td>8pneoi03z</td>\n",
       "      <td>0.0</td>\n",
       "      <td>card</td>\n",
       "      <td>JCB 16 digit</td>\n",
       "      <td>25.0</td>\n",
       "      <td>0.0</td>\n",
       "      <td>fulfilled</td>\n",
       "    </tr>\n",
       "    <tr>\n",
       "      <th>12</th>\n",
       "      <td>rubenjuarez@yahoo.com</td>\n",
       "      <td>670.664.8168x94985</td>\n",
       "      <td>slovx60t0i558may4ks0</td>\n",
       "      <td>95de:8565:5a66:792c:26e0:6cfb:7d87:11af</td>\n",
       "      <td>7769 Elizabeth Bridge Apt. 343\\nNortonstad, FM...</td>\n",
       "      <td>3</td>\n",
       "      <td>3</td>\n",
       "      <td>1</td>\n",
       "      <td>False</td>\n",
       "      <td>sn3v0ql2</td>\n",
       "      <td>audx7o</td>\n",
       "      <td>pdxjdwui4</td>\n",
       "      <td>0.0</td>\n",
       "      <td>card</td>\n",
       "      <td>Voyager</td>\n",
       "      <td>25.0</td>\n",
       "      <td>0.0</td>\n",
       "      <td>fulfilled</td>\n",
       "    </tr>\n",
       "    <tr>\n",
       "      <th>19</th>\n",
       "      <td>uchen@malone.com</td>\n",
       "      <td>1-981-877-0870</td>\n",
       "      <td>j0pd24k5h8dl2fqu0cz4</td>\n",
       "      <td>196.89.235.192</td>\n",
       "      <td>148 Russell Lodge Apt. 445\\nPort Jenniferside,...</td>\n",
       "      <td>7</td>\n",
       "      <td>7</td>\n",
       "      <td>6</td>\n",
       "      <td>True</td>\n",
       "      <td>ckk3ux58</td>\n",
       "      <td>2528x8</td>\n",
       "      <td>w1i1zq3rg</td>\n",
       "      <td>0.0</td>\n",
       "      <td>apple pay</td>\n",
       "      <td>American Express</td>\n",
       "      <td>32.0</td>\n",
       "      <td>0.0</td>\n",
       "      <td>fulfilled</td>\n",
       "    </tr>\n",
       "  </tbody>\n",
       "</table>\n",
       "</div>"
      ],
      "text/plain": [
       "                customerEmail       customerPhone        customerDevice  \\\n",
       "1      josephhoward@yahoo.com        400-108-5415  yyeiaxpltf82440jnb3v   \n",
       "4      evansjeffery@yahoo.com      1-788-091-7546  r0jpm7xaeqqa3kr6mzum   \n",
       "9   andersonwilliam@yahoo.com        024.420.0375  4m7h5ipl1shyavt6vv2r   \n",
       "12      rubenjuarez@yahoo.com  670.664.8168x94985  slovx60t0i558may4ks0   \n",
       "19           uchen@malone.com      1-981-877-0870  j0pd24k5h8dl2fqu0cz4   \n",
       "\n",
       "                          customerIPAddress  \\\n",
       "1                              8.129.104.40   \n",
       "4                           219.173.211.202   \n",
       "9   67b7:3db8:67e0:3bea:b9d0:90c1:2b60:b9f0   \n",
       "12  95de:8565:5a66:792c:26e0:6cfb:7d87:11af   \n",
       "19                           196.89.235.192   \n",
       "\n",
       "                               customerBillingAddress  No_Transactions  \\\n",
       "1             5493 Jones Islands\\nBrownside, CA 51896                2   \n",
       "4   356 Elizabeth Inlet Suite 120\\nPort Joshuabury...                3   \n",
       "9      8478 Sean Ridges Apt. 441\\nDavisberg, PR 72250                5   \n",
       "12  7769 Elizabeth Bridge Apt. 343\\nNortonstad, FM...                3   \n",
       "19  148 Russell Lodge Apt. 445\\nPort Jenniferside,...                7   \n",
       "\n",
       "    No_Orders  No_Payments  Fraud transactionId orderId paymentMethodId  \\\n",
       "1           2            1  False      y4wcv03i  yp6x27       wt07xm68b   \n",
       "4           3            7   True      a33145ss  bn44oh       y3xp697jx   \n",
       "9           3            2  False      uo3slwh7  itnk8y       8pneoi03z   \n",
       "12          3            1  False      sn3v0ql2  audx7o       pdxjdwui4   \n",
       "19          7            6   True      ckk3ux58  2528x8       w1i1zq3rg   \n",
       "\n",
       "    paymentMethodRegistrationFailure paymentMethodType paymentMethodProvider  \\\n",
       "1                                1.0              card          JCB 16 digit   \n",
       "4                                1.0           bitcoin         VISA 16 digit   \n",
       "9                                0.0              card          JCB 16 digit   \n",
       "12                               0.0              card               Voyager   \n",
       "19                               0.0         apple pay      American Express   \n",
       "\n",
       "    transactionAmount  transactionFailed orderState  \n",
       "1                26.0                0.0  fulfilled  \n",
       "4                43.0                1.0  fulfilled  \n",
       "9                25.0                0.0  fulfilled  \n",
       "12               25.0                0.0  fulfilled  \n",
       "19               32.0                0.0  fulfilled  "
      ]
     },
     "execution_count": 34,
     "metadata": {},
     "output_type": "execute_result"
    }
   ],
   "source": [
    "df4.head()"
   ]
  },
  {
   "cell_type": "code",
   "execution_count": 35,
   "metadata": {},
   "outputs": [
    {
     "data": {
      "text/plain": [
       "<matplotlib.axes._subplots.AxesSubplot at 0x251d31b4748>"
      ]
     },
     "execution_count": 35,
     "metadata": {},
     "output_type": "execute_result"
    },
    {
     "data": {
      "image/png": "[encoded data removed]",
      "text/plain": [
       "<Figure size 432x288 with 1 Axes>"
      ]
     },
     "metadata": {
      "needs_background": "light"
     },
     "output_type": "display_data"
    }
   ],
   "source": [
    "sns.countplot(df4['orderState'], hue=df4['Fraud'])"
   ]
  },
  {
   "cell_type": "markdown",
   "metadata": {},
   "source": [
    "<ul>\n",
    "    <li>Probability of Fraud happening is higher when the order state is on pending</li>\n",
    "    <li>Most Fraud cases have not been detected in the early stages hence the order were fulfilled</li></ul>"
   ]
  },
  {
   "cell_type": "code",
   "execution_count": 36,
   "metadata": {},
   "outputs": [
    {
     "data": {
      "text/html": [
       "<div>\n",
       "<style scoped>\n",
       "    .dataframe tbody tr th:only-of-type {\n",
       "        vertical-align: middle;\n",
       "    }\n",
       "\n",
       "    .dataframe tbody tr th {\n",
       "        vertical-align: top;\n",
       "    }\n",
       "\n",
       "    .dataframe thead th {\n",
       "        text-align: right;\n",
       "    }\n",
       "</style>\n",
       "<table border=\"1\" class=\"dataframe\">\n",
       "  <thead>\n",
       "    <tr style=\"text-align: right;\">\n",
       "      <th></th>\n",
       "      <th>customerEmail</th>\n",
       "      <th>customerPhone</th>\n",
       "      <th>customerDevice</th>\n",
       "      <th>customerIPAddress</th>\n",
       "      <th>customerBillingAddress</th>\n",
       "      <th>No_Transactions</th>\n",
       "      <th>No_Orders</th>\n",
       "      <th>No_Payments</th>\n",
       "      <th>Fraud</th>\n",
       "      <th>transactionId</th>\n",
       "      <th>orderId</th>\n",
       "      <th>paymentMethodId</th>\n",
       "      <th>paymentMethodRegistrationFailure</th>\n",
       "      <th>paymentMethodType</th>\n",
       "      <th>paymentMethodProvider</th>\n",
       "      <th>transactionAmount</th>\n",
       "      <th>transactionFailed</th>\n",
       "      <th>orderState</th>\n",
       "    </tr>\n",
       "  </thead>\n",
       "  <tbody>\n",
       "    <tr>\n",
       "      <th>243</th>\n",
       "      <td>jamescampbell@randall-pacheco.biz</td>\n",
       "      <td>599-142-6783</td>\n",
       "      <td>eaul63h9guyvwuymfn3z</td>\n",
       "      <td>45.203.99.249</td>\n",
       "      <td>29408 Lisa Lock\\nPort Jennifer, LA 26501-7040</td>\n",
       "      <td>7</td>\n",
       "      <td>3</td>\n",
       "      <td>2</td>\n",
       "      <td>True</td>\n",
       "      <td>vpzfovrf</td>\n",
       "      <td>ougwoy</td>\n",
       "      <td>c4lqxg7tb</td>\n",
       "      <td>0.0</td>\n",
       "      <td>card</td>\n",
       "      <td>Discover</td>\n",
       "      <td>47.0</td>\n",
       "      <td>1.0</td>\n",
       "      <td>fulfilled</td>\n",
       "    </tr>\n",
       "    <tr>\n",
       "      <th>423</th>\n",
       "      <td>warrenedward@arnold.com</td>\n",
       "      <td>201.737.5119x64000</td>\n",
       "      <td>6py7ewqjkxjw8zjl9eri</td>\n",
       "      <td>45.203.99.249</td>\n",
       "      <td>49680 Brian Squares Apt. 122\\nPort Walterburgh...</td>\n",
       "      <td>4</td>\n",
       "      <td>4</td>\n",
       "      <td>14</td>\n",
       "      <td>True</td>\n",
       "      <td>kaxr9ib2</td>\n",
       "      <td>mfgt1j</td>\n",
       "      <td>v50sqfm8h</td>\n",
       "      <td>1.0</td>\n",
       "      <td>card</td>\n",
       "      <td>American Express</td>\n",
       "      <td>11.0</td>\n",
       "      <td>0.0</td>\n",
       "      <td>fulfilled</td>\n",
       "    </tr>\n",
       "    <tr>\n",
       "      <th>457</th>\n",
       "      <td>shelby24@hotmail.com</td>\n",
       "      <td>(071)934-3315x27613</td>\n",
       "      <td>obb41ux0zfa2td5ajo9s</td>\n",
       "      <td>45.203.99.249</td>\n",
       "      <td>3271 Cynthia Groves\\nPort Jeremyberg, CO 27305</td>\n",
       "      <td>5</td>\n",
       "      <td>4</td>\n",
       "      <td>2</td>\n",
       "      <td>True</td>\n",
       "      <td>z2u9dn7i</td>\n",
       "      <td>zjigls</td>\n",
       "      <td>ust8991vz</td>\n",
       "      <td>1.0</td>\n",
       "      <td>card</td>\n",
       "      <td>Diners Club / Carte Blanche</td>\n",
       "      <td>36.0</td>\n",
       "      <td>0.0</td>\n",
       "      <td>fulfilled</td>\n",
       "    </tr>\n",
       "    <tr>\n",
       "      <th>672</th>\n",
       "      <td>christinemills@mcgee.com</td>\n",
       "      <td>(651)355-4709</td>\n",
       "      <td>zbn9it3s7yl69bjtrnqf</td>\n",
       "      <td>45.203.99.249</td>\n",
       "      <td>5156 Greene Park Apt. 748\\nNew Sandra, CA 1480...</td>\n",
       "      <td>5</td>\n",
       "      <td>5</td>\n",
       "      <td>2</td>\n",
       "      <td>True</td>\n",
       "      <td>d4oenk4o</td>\n",
       "      <td>hnt2yf</td>\n",
       "      <td>xrqpqnjba</td>\n",
       "      <td>0.0</td>\n",
       "      <td>paypal</td>\n",
       "      <td>Voyager</td>\n",
       "      <td>17.0</td>\n",
       "      <td>0.0</td>\n",
       "      <td>failed</td>\n",
       "    </tr>\n",
       "  </tbody>\n",
       "</table>\n",
       "</div>"
      ],
      "text/plain": [
       "                         customerEmail        customerPhone  \\\n",
       "243  jamescampbell@randall-pacheco.biz         599-142-6783   \n",
       "423            warrenedward@arnold.com   201.737.5119x64000   \n",
       "457               shelby24@hotmail.com  (071)934-3315x27613   \n",
       "672           christinemills@mcgee.com        (651)355-4709   \n",
       "\n",
       "           customerDevice customerIPAddress  \\\n",
       "243  eaul63h9guyvwuymfn3z     45.203.99.249   \n",
       "423  6py7ewqjkxjw8zjl9eri     45.203.99.249   \n",
       "457  obb41ux0zfa2td5ajo9s     45.203.99.249   \n",
       "672  zbn9it3s7yl69bjtrnqf     45.203.99.249   \n",
       "\n",
       "                                customerBillingAddress  No_Transactions  \\\n",
       "243      29408 Lisa Lock\\nPort Jennifer, LA 26501-7040                7   \n",
       "423  49680 Brian Squares Apt. 122\\nPort Walterburgh...                4   \n",
       "457     3271 Cynthia Groves\\nPort Jeremyberg, CO 27305                5   \n",
       "672  5156 Greene Park Apt. 748\\nNew Sandra, CA 1480...                5   \n",
       "\n",
       "     No_Orders  No_Payments  Fraud transactionId orderId paymentMethodId  \\\n",
       "243          3            2   True      vpzfovrf  ougwoy       c4lqxg7tb   \n",
       "423          4           14   True      kaxr9ib2  mfgt1j       v50sqfm8h   \n",
       "457          4            2   True      z2u9dn7i  zjigls       ust8991vz   \n",
       "672          5            2   True      d4oenk4o  hnt2yf       xrqpqnjba   \n",
       "\n",
       "     paymentMethodRegistrationFailure paymentMethodType  \\\n",
       "243                               0.0              card   \n",
       "423                               1.0              card   \n",
       "457                               1.0              card   \n",
       "672                               0.0            paypal   \n",
       "\n",
       "           paymentMethodProvider  transactionAmount  transactionFailed  \\\n",
       "243                     Discover               47.0                1.0   \n",
       "423             American Express               11.0                0.0   \n",
       "457  Diners Club / Carte Blanche               36.0                0.0   \n",
       "672                      Voyager               17.0                0.0   \n",
       "\n",
       "    orderState  \n",
       "243  fulfilled  \n",
       "423  fulfilled  \n",
       "457  fulfilled  \n",
       "672     failed  "
      ]
     },
     "execution_count": 36,
     "metadata": {},
     "output_type": "execute_result"
    }
   ],
   "source": [
    "df4.loc[df4.duplicated('customerIPAddress', keep=False)]"
   ]
  },
  {
   "cell_type": "markdown",
   "metadata": {},
   "source": [
    "<ul>\n",
    "    <li>Analysing the IP Addresses we can see that the same IP Address is used from different locations and were marked as Fraud</li>\n",
    "    <li> Out of four orders three were fulfilled</li></ul>"
   ]
  },
  {
   "cell_type": "code",
   "execution_count": 37,
   "metadata": {},
   "outputs": [
    {
     "data": {
      "text/plain": [
       "<matplotlib.axes._subplots.AxesSubplot at 0x251d322fe88>"
      ]
     },
     "execution_count": 37,
     "metadata": {},
     "output_type": "execute_result"
    },
    {
     "data": {
      "image/png": "[encoded data removed]",
      "text/plain": [
       "<Figure size 432x288 with 1 Axes>"
      ]
     },
     "metadata": {
      "needs_background": "light"
     },
     "output_type": "display_data"
    }
   ],
   "source": [
    "sns.countplot(df4['paymentMethodType'], hue=df4['Fraud'])"
   ]
  },
  {
   "cell_type": "markdown",
   "metadata": {},
   "source": [
    "<ul>\n",
    "    <li>Equal number of apple pay transactions were fraud and not fraud, followed by</li>\n",
    "    <li>The transactions done using bitcoin which were almost equal</li>\n",
    "    <li>While card payments had most number of fraud transactions</li>\n",
    "    </ul>"
   ]
  },
  {
   "cell_type": "code",
   "execution_count": 38,
   "metadata": {},
   "outputs": [
    {
     "data": {
      "text/html": [
       "<div>\n",
       "<style scoped>\n",
       "    .dataframe tbody tr th:only-of-type {\n",
       "        vertical-align: middle;\n",
       "    }\n",
       "\n",
       "    .dataframe tbody tr th {\n",
       "        vertical-align: top;\n",
       "    }\n",
       "\n",
       "    .dataframe thead th {\n",
       "        text-align: right;\n",
       "    }\n",
       "</style>\n",
       "<table border=\"1\" class=\"dataframe\">\n",
       "  <thead>\n",
       "    <tr style=\"text-align: right;\">\n",
       "      <th></th>\n",
       "      <th>customerEmail</th>\n",
       "      <th>customerPhone</th>\n",
       "      <th>customerDevice</th>\n",
       "      <th>customerIPAddress</th>\n",
       "      <th>customerBillingAddress</th>\n",
       "      <th>No_Transactions</th>\n",
       "      <th>No_Orders</th>\n",
       "      <th>No_Payments</th>\n",
       "      <th>Fraud</th>\n",
       "      <th>transactionId</th>\n",
       "      <th>orderId</th>\n",
       "      <th>paymentMethodId</th>\n",
       "      <th>paymentMethodRegistrationFailure</th>\n",
       "      <th>paymentMethodType</th>\n",
       "      <th>paymentMethodProvider</th>\n",
       "      <th>transactionAmount</th>\n",
       "      <th>transactionFailed</th>\n",
       "      <th>orderState</th>\n",
       "    </tr>\n",
       "  </thead>\n",
       "  <tbody>\n",
       "    <tr>\n",
       "      <th>19</th>\n",
       "      <td>uchen@malone.com</td>\n",
       "      <td>1-981-877-0870</td>\n",
       "      <td>j0pd24k5h8dl2fqu0cz4</td>\n",
       "      <td>196.89.235.192</td>\n",
       "      <td>148 Russell Lodge Apt. 445\\nPort Jenniferside,...</td>\n",
       "      <td>7</td>\n",
       "      <td>7</td>\n",
       "      <td>6</td>\n",
       "      <td>True</td>\n",
       "      <td>ckk3ux58</td>\n",
       "      <td>2528x8</td>\n",
       "      <td>w1i1zq3rg</td>\n",
       "      <td>0.0</td>\n",
       "      <td>apple pay</td>\n",
       "      <td>American Express</td>\n",
       "      <td>32.0</td>\n",
       "      <td>0.0</td>\n",
       "      <td>fulfilled</td>\n",
       "    </tr>\n",
       "    <tr>\n",
       "      <th>22</th>\n",
       "      <td>samuel15@saunders-rhodes.com</td>\n",
       "      <td>05045239487</td>\n",
       "      <td>up7afvce5v0omniqlevq</td>\n",
       "      <td>33.67.35.30</td>\n",
       "      <td>3960 Emily Fort\\nStaceytown, AR 21817-3325</td>\n",
       "      <td>2</td>\n",
       "      <td>1</td>\n",
       "      <td>2</td>\n",
       "      <td>True</td>\n",
       "      <td>lla8uo92</td>\n",
       "      <td>sq7rk9</td>\n",
       "      <td>je76d0ulj</td>\n",
       "      <td>0.0</td>\n",
       "      <td>apple pay</td>\n",
       "      <td>VISA 13 digit</td>\n",
       "      <td>40.0</td>\n",
       "      <td>0.0</td>\n",
       "      <td>fulfilled</td>\n",
       "    </tr>\n",
       "    <tr>\n",
       "      <th>86</th>\n",
       "      <td>gonzalesjackson@gmail.com</td>\n",
       "      <td>1-410-373-1228x129</td>\n",
       "      <td>hmkn4nmfc5q5mgify2zw</td>\n",
       "      <td>229.2.225.188</td>\n",
       "      <td>566 Courtney Stream\\nReedland, NH 84853</td>\n",
       "      <td>4</td>\n",
       "      <td>4</td>\n",
       "      <td>1</td>\n",
       "      <td>True</td>\n",
       "      <td>1wa1s613</td>\n",
       "      <td>u3ogjs</td>\n",
       "      <td>7964l78jo</td>\n",
       "      <td>0.0</td>\n",
       "      <td>apple pay</td>\n",
       "      <td>VISA 16 digit</td>\n",
       "      <td>41.0</td>\n",
       "      <td>0.0</td>\n",
       "      <td>fulfilled</td>\n",
       "    </tr>\n",
       "    <tr>\n",
       "      <th>112</th>\n",
       "      <td>harrisnicholas@mitchell-hancock.com</td>\n",
       "      <td>(922)411-5121x98410</td>\n",
       "      <td>y3m3px7h46gor851y1pu</td>\n",
       "      <td>58.13.30.104</td>\n",
       "      <td>357 Barbara Crossroad\\nJacobsburgh, WY 09289-9170</td>\n",
       "      <td>6</td>\n",
       "      <td>4</td>\n",
       "      <td>2</td>\n",
       "      <td>False</td>\n",
       "      <td>5ccytrgf</td>\n",
       "      <td>dfwo2l</td>\n",
       "      <td>llpmu63n4</td>\n",
       "      <td>0.0</td>\n",
       "      <td>apple pay</td>\n",
       "      <td>Mastercard</td>\n",
       "      <td>25.0</td>\n",
       "      <td>1.0</td>\n",
       "      <td>fulfilled</td>\n",
       "    </tr>\n",
       "    <tr>\n",
       "      <th>163</th>\n",
       "      <td>paul86@hotmail.com</td>\n",
       "      <td>986-625-5606</td>\n",
       "      <td>iyac5n05j0sxp2b0cnnc</td>\n",
       "      <td>aae7:6c39:b70:7025:d60d:bab3:6547:4adc</td>\n",
       "      <td>546 Kim Walk\\nSouth Jacquelinefurt, NM 01696</td>\n",
       "      <td>2</td>\n",
       "      <td>1</td>\n",
       "      <td>1</td>\n",
       "      <td>False</td>\n",
       "      <td>rk0m8roe</td>\n",
       "      <td>4w6x1p</td>\n",
       "      <td>j6vt0l11e</td>\n",
       "      <td>0.0</td>\n",
       "      <td>apple pay</td>\n",
       "      <td>JCB 16 digit</td>\n",
       "      <td>44.0</td>\n",
       "      <td>0.0</td>\n",
       "      <td>fulfilled</td>\n",
       "    </tr>\n",
       "    <tr>\n",
       "      <th>261</th>\n",
       "      <td>kristina41@gmail.com</td>\n",
       "      <td>1-836-334-7673</td>\n",
       "      <td>1a88bvu79nax6873na08</td>\n",
       "      <td>35.23.150.176</td>\n",
       "      <td>5769 Ronald Brook Suite 963\\nLake Jasonfurt, M...</td>\n",
       "      <td>7</td>\n",
       "      <td>6</td>\n",
       "      <td>3</td>\n",
       "      <td>True</td>\n",
       "      <td>h96uhgzk</td>\n",
       "      <td>iaousp</td>\n",
       "      <td>cm5dp45zh</td>\n",
       "      <td>0.0</td>\n",
       "      <td>apple pay</td>\n",
       "      <td>JCB 16 digit</td>\n",
       "      <td>51.0</td>\n",
       "      <td>0.0</td>\n",
       "      <td>fulfilled</td>\n",
       "    </tr>\n",
       "    <tr>\n",
       "      <th>391</th>\n",
       "      <td>nancymayo@brown.com</td>\n",
       "      <td>830-346-6543x518</td>\n",
       "      <td>1asmfecu4hbv73a2r5jy</td>\n",
       "      <td>79.112.154.104</td>\n",
       "      <td>6927 Nathan Mountains\\nNorth April, PA 95355-9109</td>\n",
       "      <td>7</td>\n",
       "      <td>6</td>\n",
       "      <td>2</td>\n",
       "      <td>True</td>\n",
       "      <td>4z7tp93o</td>\n",
       "      <td>c5b579</td>\n",
       "      <td>oxpsbpotn</td>\n",
       "      <td>0.0</td>\n",
       "      <td>apple pay</td>\n",
       "      <td>Diners Club / Carte Blanche</td>\n",
       "      <td>30.0</td>\n",
       "      <td>0.0</td>\n",
       "      <td>pending</td>\n",
       "    </tr>\n",
       "    <tr>\n",
       "      <th>428</th>\n",
       "      <td>rbolton@hotmail.com</td>\n",
       "      <td>04454448537</td>\n",
       "      <td>znuylfikiuid1orrwsvt</td>\n",
       "      <td>911e:44d8:824c:85a3:ba7a:6513:8d40:c4c3</td>\n",
       "      <td>150 Kenneth Bypass Apt. 791\\nKevinton, VT 92488</td>\n",
       "      <td>5</td>\n",
       "      <td>4</td>\n",
       "      <td>3</td>\n",
       "      <td>False</td>\n",
       "      <td>nixfmk79</td>\n",
       "      <td>h7m36s</td>\n",
       "      <td>895soyhh1</td>\n",
       "      <td>0.0</td>\n",
       "      <td>apple pay</td>\n",
       "      <td>VISA 13 digit</td>\n",
       "      <td>27.0</td>\n",
       "      <td>1.0</td>\n",
       "      <td>fulfilled</td>\n",
       "    </tr>\n",
       "    <tr>\n",
       "      <th>477</th>\n",
       "      <td>craig83@rasmussen-alvarado.com</td>\n",
       "      <td>122-259-7479x336</td>\n",
       "      <td>s93o0wj3eqd9whcy9ng3</td>\n",
       "      <td>35.212.254.226</td>\n",
       "      <td>10068 Adam Rapids Suite 792\\nRileyburgh, GA 11372</td>\n",
       "      <td>2</td>\n",
       "      <td>2</td>\n",
       "      <td>13</td>\n",
       "      <td>True</td>\n",
       "      <td>crl6tv84</td>\n",
       "      <td>8yj5xm</td>\n",
       "      <td>2g0jtwk7z</td>\n",
       "      <td>0.0</td>\n",
       "      <td>apple pay</td>\n",
       "      <td>Diners Club / Carte Blanche</td>\n",
       "      <td>21.0</td>\n",
       "      <td>1.0</td>\n",
       "      <td>fulfilled</td>\n",
       "    </tr>\n",
       "    <tr>\n",
       "      <th>606</th>\n",
       "      <td>oaguirre@hotmail.com</td>\n",
       "      <td>1-856-006-5150</td>\n",
       "      <td>cvtpgtclxkvcwvr16cyd</td>\n",
       "      <td>ae37:8e14:bfc1:43c4:7dde:7b9e:ca7f:4721</td>\n",
       "      <td>719 Jeremy Flat Apt. 914\\nAlexanderport, IA 97...</td>\n",
       "      <td>1</td>\n",
       "      <td>1</td>\n",
       "      <td>4</td>\n",
       "      <td>True</td>\n",
       "      <td>5s2j37z0</td>\n",
       "      <td>9lj87e</td>\n",
       "      <td>0d9jd80l2</td>\n",
       "      <td>0.0</td>\n",
       "      <td>apple pay</td>\n",
       "      <td>Voyager</td>\n",
       "      <td>47.0</td>\n",
       "      <td>0.0</td>\n",
       "      <td>fulfilled</td>\n",
       "    </tr>\n",
       "    <tr>\n",
       "      <th>715</th>\n",
       "      <td>mercedesfinley@roman.org</td>\n",
       "      <td>569-710-0646x4095</td>\n",
       "      <td>qh7i8ad23hd5vosiuj5j</td>\n",
       "      <td>f15:32d4:97fb:c211:3d4e:a471:af9c:6c34</td>\n",
       "      <td>03028 Brown Spring Suite 348\\nElliottchester, ...</td>\n",
       "      <td>5</td>\n",
       "      <td>5</td>\n",
       "      <td>4</td>\n",
       "      <td>False</td>\n",
       "      <td>kzj11whl</td>\n",
       "      <td>d993dt</td>\n",
       "      <td>muqv21w62</td>\n",
       "      <td>0.0</td>\n",
       "      <td>apple pay</td>\n",
       "      <td>VISA 13 digit</td>\n",
       "      <td>22.0</td>\n",
       "      <td>0.0</td>\n",
       "      <td>fulfilled</td>\n",
       "    </tr>\n",
       "    <tr>\n",
       "      <th>732</th>\n",
       "      <td>thomasryan@conrad.net</td>\n",
       "      <td>1-192-434-2783</td>\n",
       "      <td>spoo36hycxgbo0y2tap7</td>\n",
       "      <td>3.225.227.70</td>\n",
       "      <td>00373 Hicks Keys Suite 407\\nMillerside, HI 985...</td>\n",
       "      <td>5</td>\n",
       "      <td>3</td>\n",
       "      <td>2</td>\n",
       "      <td>False</td>\n",
       "      <td>oys0c9e5</td>\n",
       "      <td>szs0n9</td>\n",
       "      <td>n5z9rxst8</td>\n",
       "      <td>0.0</td>\n",
       "      <td>apple pay</td>\n",
       "      <td>American Express</td>\n",
       "      <td>22.0</td>\n",
       "      <td>0.0</td>\n",
       "      <td>pending</td>\n",
       "    </tr>\n",
       "    <tr>\n",
       "      <th>774</th>\n",
       "      <td>stevehernandez@gmail.com</td>\n",
       "      <td>716-379-6345</td>\n",
       "      <td>felexq5xniffmhhlqdqm</td>\n",
       "      <td>601d:b1f3:1a48:e0ef:1452:906f:21dc:b526</td>\n",
       "      <td>904 James Route Suite 595\\nLake Ruth, CO 66976</td>\n",
       "      <td>6</td>\n",
       "      <td>5</td>\n",
       "      <td>1</td>\n",
       "      <td>False</td>\n",
       "      <td>m1w4y3sd</td>\n",
       "      <td>frghsc</td>\n",
       "      <td>8ty2ztfnr</td>\n",
       "      <td>0.0</td>\n",
       "      <td>apple pay</td>\n",
       "      <td>Maestro</td>\n",
       "      <td>39.0</td>\n",
       "      <td>0.0</td>\n",
       "      <td>fulfilled</td>\n",
       "    </tr>\n",
       "    <tr>\n",
       "      <th>791</th>\n",
       "      <td>patrickcalderon@russo.net</td>\n",
       "      <td>444-358-6570x947</td>\n",
       "      <td>84z3gd4fiabz488ybv9p</td>\n",
       "      <td>2be:a4d5:eb39:fa22:2650:83d5:917f:5f23</td>\n",
       "      <td>6223 Cheyenne Villages Suite 751\\nCoryborough,...</td>\n",
       "      <td>3</td>\n",
       "      <td>2</td>\n",
       "      <td>1</td>\n",
       "      <td>False</td>\n",
       "      <td>s3t5yx6o</td>\n",
       "      <td>0nzjdh</td>\n",
       "      <td>sptgc1wgt</td>\n",
       "      <td>0.0</td>\n",
       "      <td>apple pay</td>\n",
       "      <td>American Express</td>\n",
       "      <td>47.0</td>\n",
       "      <td>1.0</td>\n",
       "      <td>fulfilled</td>\n",
       "    </tr>\n",
       "  </tbody>\n",
       "</table>\n",
       "</div>"
      ],
      "text/plain": [
       "                           customerEmail        customerPhone  \\\n",
       "19                      uchen@malone.com       1-981-877-0870   \n",
       "22          samuel15@saunders-rhodes.com          05045239487   \n",
       "86             gonzalesjackson@gmail.com   1-410-373-1228x129   \n",
       "112  harrisnicholas@mitchell-hancock.com  (922)411-5121x98410   \n",
       "163                   paul86@hotmail.com         986-625-5606   \n",
       "261                 kristina41@gmail.com       1-836-334-7673   \n",
       "391                  nancymayo@brown.com     830-346-6543x518   \n",
       "428                  rbolton@hotmail.com          04454448537   \n",
       "477       craig83@rasmussen-alvarado.com     122-259-7479x336   \n",
       "606                 oaguirre@hotmail.com       1-856-006-5150   \n",
       "715             mercedesfinley@roman.org    569-710-0646x4095   \n",
       "732                thomasryan@conrad.net       1-192-434-2783   \n",
       "774             stevehernandez@gmail.com         716-379-6345   \n",
       "791            patrickcalderon@russo.net     444-358-6570x947   \n",
       "\n",
       "           customerDevice                        customerIPAddress  \\\n",
       "19   j0pd24k5h8dl2fqu0cz4                           196.89.235.192   \n",
       "22   up7afvce5v0omniqlevq                              33.67.35.30   \n",
       "86   hmkn4nmfc5q5mgify2zw                            229.2.225.188   \n",
       "112  y3m3px7h46gor851y1pu                             58.13.30.104   \n",
       "163  iyac5n05j0sxp2b0cnnc   aae7:6c39:b70:7025:d60d:bab3:6547:4adc   \n",
       "261  1a88bvu79nax6873na08                            35.23.150.176   \n",
       "391  1asmfecu4hbv73a2r5jy                           79.112.154.104   \n",
       "428  znuylfikiuid1orrwsvt  911e:44d8:824c:85a3:ba7a:6513:8d40:c4c3   \n",
       "477  s93o0wj3eqd9whcy9ng3                           35.212.254.226   \n",
       "606  cvtpgtclxkvcwvr16cyd  ae37:8e14:bfc1:43c4:7dde:7b9e:ca7f:4721   \n",
       "715  qh7i8ad23hd5vosiuj5j   f15:32d4:97fb:c211:3d4e:a471:af9c:6c34   \n",
       "732  spoo36hycxgbo0y2tap7                             3.225.227.70   \n",
       "774  felexq5xniffmhhlqdqm  601d:b1f3:1a48:e0ef:1452:906f:21dc:b526   \n",
       "791  84z3gd4fiabz488ybv9p   2be:a4d5:eb39:fa22:2650:83d5:917f:5f23   \n",
       "\n",
       "                                customerBillingAddress  No_Transactions  \\\n",
       "19   148 Russell Lodge Apt. 445\\nPort Jenniferside,...                7   \n",
       "22          3960 Emily Fort\\nStaceytown, AR 21817-3325                2   \n",
       "86             566 Courtney Stream\\nReedland, NH 84853                4   \n",
       "112  357 Barbara Crossroad\\nJacobsburgh, WY 09289-9170                6   \n",
       "163       546 Kim Walk\\nSouth Jacquelinefurt, NM 01696                2   \n",
       "261  5769 Ronald Brook Suite 963\\nLake Jasonfurt, M...                7   \n",
       "391  6927 Nathan Mountains\\nNorth April, PA 95355-9109                7   \n",
       "428    150 Kenneth Bypass Apt. 791\\nKevinton, VT 92488                5   \n",
       "477  10068 Adam Rapids Suite 792\\nRileyburgh, GA 11372                2   \n",
       "606  719 Jeremy Flat Apt. 914\\nAlexanderport, IA 97...                1   \n",
       "715  03028 Brown Spring Suite 348\\nElliottchester, ...                5   \n",
       "732  00373 Hicks Keys Suite 407\\nMillerside, HI 985...                5   \n",
       "774     904 James Route Suite 595\\nLake Ruth, CO 66976                6   \n",
       "791  6223 Cheyenne Villages Suite 751\\nCoryborough,...                3   \n",
       "\n",
       "     No_Orders  No_Payments  Fraud transactionId orderId paymentMethodId  \\\n",
       "19           7            6   True      ckk3ux58  2528x8       w1i1zq3rg   \n",
       "22           1            2   True      lla8uo92  sq7rk9       je76d0ulj   \n",
       "86           4            1   True      1wa1s613  u3ogjs       7964l78jo   \n",
       "112          4            2  False      5ccytrgf  dfwo2l       llpmu63n4   \n",
       "163          1            1  False      rk0m8roe  4w6x1p       j6vt0l11e   \n",
       "261          6            3   True      h96uhgzk  iaousp       cm5dp45zh   \n",
       "391          6            2   True      4z7tp93o  c5b579       oxpsbpotn   \n",
       "428          4            3  False      nixfmk79  h7m36s       895soyhh1   \n",
       "477          2           13   True      crl6tv84  8yj5xm       2g0jtwk7z   \n",
       "606          1            4   True      5s2j37z0  9lj87e       0d9jd80l2   \n",
       "715          5            4  False      kzj11whl  d993dt       muqv21w62   \n",
       "732          3            2  False      oys0c9e5  szs0n9       n5z9rxst8   \n",
       "774          5            1  False      m1w4y3sd  frghsc       8ty2ztfnr   \n",
       "791          2            1  False      s3t5yx6o  0nzjdh       sptgc1wgt   \n",
       "\n",
       "     paymentMethodRegistrationFailure paymentMethodType  \\\n",
       "19                                0.0         apple pay   \n",
       "22                                0.0         apple pay   \n",
       "86                                0.0         apple pay   \n",
       "112                               0.0         apple pay   \n",
       "163                               0.0         apple pay   \n",
       "261                               0.0         apple pay   \n",
       "391                               0.0         apple pay   \n",
       "428                               0.0         apple pay   \n",
       "477                               0.0         apple pay   \n",
       "606                               0.0         apple pay   \n",
       "715                               0.0         apple pay   \n",
       "732                               0.0         apple pay   \n",
       "774                               0.0         apple pay   \n",
       "791                               0.0         apple pay   \n",
       "\n",
       "           paymentMethodProvider  transactionAmount  transactionFailed  \\\n",
       "19              American Express               32.0                0.0   \n",
       "22                 VISA 13 digit               40.0                0.0   \n",
       "86                 VISA 16 digit               41.0                0.0   \n",
       "112                   Mastercard               25.0                1.0   \n",
       "163                 JCB 16 digit               44.0                0.0   \n",
       "261                 JCB 16 digit               51.0                0.0   \n",
       "391  Diners Club / Carte Blanche               30.0                0.0   \n",
       "428                VISA 13 digit               27.0                1.0   \n",
       "477  Diners Club / Carte Blanche               21.0                1.0   \n",
       "606                      Voyager               47.0                0.0   \n",
       "715                VISA 13 digit               22.0                0.0   \n",
       "732             American Express               22.0                0.0   \n",
       "774                      Maestro               39.0                0.0   \n",
       "791             American Express               47.0                1.0   \n",
       "\n",
       "    orderState  \n",
       "19   fulfilled  \n",
       "22   fulfilled  \n",
       "86   fulfilled  \n",
       "112  fulfilled  \n",
       "163  fulfilled  \n",
       "261  fulfilled  \n",
       "391    pending  \n",
       "428  fulfilled  \n",
       "477  fulfilled  \n",
       "606  fulfilled  \n",
       "715  fulfilled  \n",
       "732    pending  \n",
       "774  fulfilled  \n",
       "791  fulfilled  "
      ]
     },
     "execution_count": 38,
     "metadata": {},
     "output_type": "execute_result"
    }
   ],
   "source": [
    "df4.loc[df4['paymentMethodType']=='apple pay']"
   ]
  },
  {
   "cell_type": "code",
   "execution_count": 39,
   "metadata": {},
   "outputs": [
    {
     "data": {
      "text/plain": [
       "<matplotlib.axes._subplots.AxesSubplot at 0x251d329e148>"
      ]
     },
     "execution_count": 39,
     "metadata": {},
     "output_type": "execute_result"
    },
    {
     "data": {
      "image/png": "[encoded data removed]",
      "text/plain": [
       "<Figure size 432x288 with 2 Axes>"
      ]
     },
     "metadata": {
      "needs_background": "light"
     },
     "output_type": "display_data"
    }
   ],
   "source": [
    "corr = df4.corr()\n",
    "sns.heatmap(corr, annot=True, fmt='.1g', cmap='coolwarm', vmin=-1, vmax=1, center=0)"
   ]
  },
  {
   "cell_type": "code",
   "execution_count": null,
   "metadata": {},
   "outputs": [],
   "source": []
  }
 ],
 "metadata": {
  "kernelspec": {
   "display_name": "Python 3",
   "language": "python",
   "name": "python3"
  },
  "language_info": {
   "codemirror_mode": {
    "name": "ipython",
    "version": 3
   },
   "file_extension": ".py",
   "mimetype": "text/x-python",
   "name": "python",
   "nbconvert_exporter": "python",
   "pygments_lexer": "ipython3",
   "version": "3.7.6"
  }
 },
 "nbformat": 4,
 "nbformat_minor": 4
}
